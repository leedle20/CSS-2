{
  "nbformat": 4,
  "nbformat_minor": 0,
  "metadata": {
    "colab": {
      "name": "Sea_Leeda_problem_set_5.ipynb",
      "provenance": []
    },
    "kernelspec": {
      "name": "python3",
      "display_name": "Python 3"
    },
    "language_info": {
      "name": "python"
    }
  },
  "cells": [
    {
      "cell_type": "markdown",
      "metadata": {
        "id": "61dfJ8zWD7yf"
      },
      "source": [
        "# Block 1"
      ]
    },
    {
      "cell_type": "code",
      "metadata": {
        "colab": {
          "resources": {
            "http://localhost:8080/nbextensions/google.colab/files.js": {
              "data": "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",
              "ok": true,
              "headers": [
                [
                  "content-type",
                  "application/javascript"
                ]
              ],
              "status": 200,
              "status_text": ""
            }
          },
          "base_uri": "https://localhost:8080/",
          "height": 126
        },
        "id": "_0Lyhr_LhTWL",
        "outputId": "1125daf7-6f11-4844-85eb-36e670e7226a"
      },
      "source": [
        "import numpy as np\n",
        "import pandas as pd\n",
        "import matplotlib.pyplot as plt\n",
        "import seaborn as sns\n",
        "from google.colab import files\n",
        "files.upload()"
      ],
      "execution_count": 1,
      "outputs": [
        {
          "output_type": "display_data",
          "data": {
            "text/html": [
              "\n",
              "     <input type=\"file\" id=\"files-796dd687-0b86-48af-9d08-e560529b74ad\" name=\"files[]\" multiple disabled\n",
              "        style=\"border:none\" />\n",
              "     <output id=\"result-796dd687-0b86-48af-9d08-e560529b74ad\">\n",
              "      Upload widget is only available when the cell has been executed in the\n",
              "      current browser session. Please rerun this cell to enable.\n",
              "      </output>\n",
              "      <script src=\"/nbextensions/google.colab/files.js\"></script> "
            ],
            "text/plain": [
              "<IPython.core.display.HTML object>"
            ]
          },
          "metadata": {
            "tags": []
          }
        },
        {
          "output_type": "stream",
          "text": [
            "Saving messed_up_iris.xlsx to messed_up_iris (3).xlsx\n"
          ],
          "name": "stdout"
        },
        {
          "output_type": "execute_result",
          "data": {
            "text/plain": [
              "{'messed_up_iris.xlsx': b'PK\\x03\\x04\\x14\\x00\\x06\\x00\\x08\\x00\\x00\\x00!\\x00B;>\\xc9\\\\\\x01\\x00\\x00\\x90\\x04\\x00\\x00\\x13\\x00\\x08\\x02[Content_Types].xml \\xa2\\x04\\x02(\\xa0\\x00\\x02\\x00\\x00\\x00\\x00\\x00\\x00\\x00\\x00\\x00\\x00\\x00\\x00\\x00\\x00\\x00\\x00\\x00\\x00\\x00\\x00\\x00\\x00\\x00\\x00\\x00\\x00\\x00\\x00\\x00\\x00\\x00\\x00\\x00\\x00\\x00\\x00\\x00\\x00\\x00\\x00\\x00\\x00\\x00\\x00\\x00\\x00\\x00\\x00\\x00\\x00\\x00\\x00\\x00\\x00\\x00\\x00\\x00\\x00\\x00\\x00\\x00\\x00\\x00\\x00\\x00\\x00\\x00\\x00\\x00\\x00\\x00\\x00\\x00\\x00\\x00\\x00\\x00\\x00\\x00\\x00\\x00\\x00\\x00\\x00\\x00\\x00\\x00\\x00\\x00\\x00\\x00\\x00\\x00\\x00\\x00\\x00\\x00\\x00\\x00\\x00\\x00\\x00\\x00\\x00\\x00\\x00\\x00\\x00\\x00\\x00\\x00\\x00\\x00\\x00\\x00\\x00\\x00\\x00\\x00\\x00\\x00\\x00\\x00\\x00\\x00\\x00\\x00\\x00\\x00\\x00\\x00\\x00\\x00\\x00\\x00\\x00\\x00\\x00\\x00\\x00\\x00\\x00\\x00\\x00\\x00\\x00\\x00\\x00\\x00\\x00\\x00\\x00\\x00\\x00\\x00\\x00\\x00\\x00\\x00\\x00\\x00\\x00\\x00\\x00\\x00\\x00\\x00\\x00\\x00\\x00\\x00\\x00\\x00\\x00\\x00\\x00\\x00\\x00\\x00\\x00\\x00\\x00\\x00\\x00\\x00\\x00\\x00\\x00\\x00\\x00\\x00\\x00\\x00\\x00\\x00\\x00\\x00\\x00\\x00\\x00\\x00\\x00\\x00\\x00\\x00\\x00\\x00\\x00\\x00\\x00\\x00\\x00\\x00\\x00\\x00\\x00\\x00\\x00\\x00\\x00\\x00\\x00\\x00\\x00\\x00\\x00\\x00\\x00\\x00\\x00\\x00\\x00\\x00\\x00\\x00\\x00\\x00\\x00\\x00\\x00\\x00\\x00\\x00\\x00\\x00\\x00\\x00\\x00\\x00\\x00\\x00\\x00\\x00\\x00\\x00\\x00\\x00\\x00\\x00\\x00\\x00\\x00\\x00\\x00\\x00\\x00\\x00\\x00\\x00\\x00\\x00\\x00\\x00\\x00\\x00\\x00\\x00\\x00\\x00\\x00\\x00\\x00\\x00\\x00\\x00\\x00\\x00\\x00\\x00\\x00\\x00\\x00\\x00\\x00\\x00\\x00\\x00\\x00\\x00\\x00\\x00\\x00\\x00\\x00\\x00\\x00\\x00\\x00\\x00\\x00\\x00\\x00\\x00\\x00\\x00\\x00\\x00\\x00\\x00\\x00\\x00\\x00\\x00\\x00\\x00\\x00\\x00\\x00\\x00\\x00\\x00\\x00\\x00\\x00\\x00\\x00\\x00\\x00\\x00\\x00\\x00\\x00\\x00\\x00\\x00\\x00\\x00\\x00\\x00\\x00\\x00\\x00\\x00\\x00\\x00\\x00\\x00\\x00\\x00\\x00\\x00\\x00\\x00\\x00\\x00\\x00\\x00\\x00\\x00\\x00\\x00\\x00\\x00\\x00\\x00\\x00\\x00\\x00\\x00\\x00\\x00\\x00\\x00\\x00\\x00\\x00\\x00\\x00\\x00\\x00\\x00\\x00\\x00\\x00\\x00\\x00\\x00\\x00\\x00\\x00\\x00\\x00\\x00\\x00\\x00\\x00\\x00\\x00\\x00\\x00\\x00\\x00\\x00\\x00\\x00\\x00\\x00\\x00\\x00\\x00\\x00\\x00\\x00\\x00\\x00\\x00\\x00\\x00\\x00\\x00\\x00\\x00\\x00\\x00\\x00\\x00\\x00\\x00\\x00\\x00\\x00\\x00\\x00\\x00\\x00\\x00\\x00\\x00\\x00\\x00\\x00\\x00\\x00\\x00\\x00\\x00\\x00\\x00\\x00\\x00\\x00\\x00\\x00\\x00\\x00\\x00\\x00\\x00\\x00\\x00\\x00\\x00\\x00\\x00\\x00\\x00\\x00\\x00\\x00\\x00\\x00\\x00\\x00\\x00\\x00\\x00\\x00\\x00\\x00\\x00\\x00\\x00\\x00\\x00\\x00\\x00\\x00\\x00\\x00\\x00\\x00\\x00\\x00\\x00\\x00\\x00\\x00\\x00\\x00\\x00\\x00\\x00\\xac\\x94Mn\\xc20\\x10\\x85\\xf7\\x95z\\x87\\xc8\\xdb*1tQU\\x15\\x81E\\x7f\\x96-R\\xe9\\x01\\xdcxB,\\x1c\\xdb\\xf2\\x0c\\x14n\\xdf\\x89\\xa1U\\x85P\\x00\\x95M\\xac\\xc4~\\xef}vf<\\x9a\\xac[\\x9b\\xad \\xa2\\xf1\\xae\\x14\\xc3b 2p\\x95\\xd7\\xc6\\xcdK\\xf11{\\xc9\\xefE\\x86\\xa4\\x9cV\\xd6;(\\xc5\\x06PL\\xc6\\xd7W\\xa3\\xd9&\\x00f\\xacvX\\x8a\\x86(<H\\x89U\\x03\\xad\\xc2\\xc2\\x07p<S\\xfb\\xd8*\\xe2\\xd78\\x97AU\\x0b5\\x07y;\\x18\\xdc\\xc9\\xca;\\x02G9u\\x1eb<z\\x82Z--e\\xcfk\\xfe\\xbc%a\\xb9\\xc8\\x1e\\xb7\\xeb\\xba\\xa8R\\xa8\\x10\\xac\\xa9\\x141\\xa8\\xecf\\xe5A]\\x04\\x8b=\\xc2\\x95\\xd3{t\\xf9\\x8e\\xac`e2\\xc7\\xc6\\x04\\xbc\\xd9%\\xbc\\xf1\\xd1D\\xa3!\\x9b\\xaaH\\xaf\\xaae\\x0e\\xb9\\xb6\\xf2\\xcb\\xc7\\xc5\\xa7\\xf7\\x8b\\xa2\\x1f\\xf3@\\x9a\\xafkS\\x81\\xf6\\xd5\\xb2\\xe5\\x13(0DP\\x1a\\x1b\\x00jm\\x91\\xc6\\xa2U\\xc6\\x9d\\x90\\x9f\\x16\\xa3L\\xc3\\xf0\\xc2 \\xdd\\xfe\\x92\\xf1\\x11\\x0e\\xe2\\xff\\r2=\\xff\\x8f\\x90l\\x8e\\x04\"m,\\xe0\\x85w\\xbb5=\\x96\\xdc\\xa8\\x08\\xfa\\x9d\"w\\xc6\\xc5\\x01\\xfez\\xf7qp\\xddL\\xa3\\x0f\\xc8\\x1d\\x14\\xe1\\xfcS\\xf8)\\xf5N\\x9d\\x076\\x82H\\x06z\\x8b\\xfd7\\x91\\xdb\\xef\\xfc\\xc0\\xbdj\\x87\\xae\\xbf5\\xe8\\x03\\xd92\\xdd\\'\\xe3o\\x00\\x00\\x00\\xff\\xff\\x03\\x00PK\\x03\\x04\\x14\\x00\\x06\\x00\\x08\\x00\\x00\\x00!\\x00P|N\\xc1\\xf6\\x00\\x00\\x00L\\x02\\x00\\x00\\x0b\\x00\\x08\\x02_rels/.rels \\xa2\\x04\\x02(\\xa0\\x00\\x02\\x00\\x00\\x00\\x00\\x00\\x00\\x00\\x00\\x00\\x00\\x00\\x00\\x00\\x00\\x00\\x00\\x00\\x00\\x00\\x00\\x00\\x00\\x00\\x00\\x00\\x00\\x00\\x00\\x00\\x00\\x00\\x00\\x00\\x00\\x00\\x00\\x00\\x00\\x00\\x00\\x00\\x00\\x00\\x00\\x00\\x00\\x00\\x00\\x00\\x00\\x00\\x00\\x00\\x00\\x00\\x00\\x00\\x00\\x00\\x00\\x00\\x00\\x00\\x00\\x00\\x00\\x00\\x00\\x00\\x00\\x00\\x00\\x00\\x00\\x00\\x00\\x00\\x00\\x00\\x00\\x00\\x00\\x00\\x00\\x00\\x00\\x00\\x00\\x00\\x00\\x00\\x00\\x00\\x00\\x00\\x00\\x00\\x00\\x00\\x00\\x00\\x00\\x00\\x00\\x00\\x00\\x00\\x00\\x00\\x00\\x00\\x00\\x00\\x00\\x00\\x00\\x00\\x00\\x00\\x00\\x00\\x00\\x00\\x00\\x00\\x00\\x00\\x00\\x00\\x00\\x00\\x00\\x00\\x00\\x00\\x00\\x00\\x00\\x00\\x00\\x00\\x00\\x00\\x00\\x00\\x00\\x00\\x00\\x00\\x00\\x00\\x00\\x00\\x00\\x00\\x00\\x00\\x00\\x00\\x00\\x00\\x00\\x00\\x00\\x00\\x00\\x00\\x00\\x00\\x00\\x00\\x00\\x00\\x00\\x00\\x00\\x00\\x00\\x00\\x00\\x00\\x00\\x00\\x00\\x00\\x00\\x00\\x00\\x00\\x00\\x00\\x00\\x00\\x00\\x00\\x00\\x00\\x00\\x00\\x00\\x00\\x00\\x00\\x00\\x00\\x00\\x00\\x00\\x00\\x00\\x00\\x00\\x00\\x00\\x00\\x00\\x00\\x00\\x00\\x00\\x00\\x00\\x00\\x00\\x00\\x00\\x00\\x00\\x00\\x00\\x00\\x00\\x00\\x00\\x00\\x00\\x00\\x00\\x00\\x00\\x00\\x00\\x00\\x00\\x00\\x00\\x00\\x00\\x00\\x00\\x00\\x00\\x00\\x00\\x00\\x00\\x00\\x00\\x00\\x00\\x00\\x00\\x00\\x00\\x00\\x00\\x00\\x00\\x00\\x00\\x00\\x00\\x00\\x00\\x00\\x00\\x00\\x00\\x00\\x00\\x00\\x00\\x00\\x00\\x00\\x00\\x00\\x00\\x00\\x00\\x00\\x00\\x00\\x00\\x00\\x00\\x00\\x00\\x00\\x00\\x00\\x00\\x00\\x00\\x00\\x00\\x00\\x00\\x00\\x00\\x00\\x00\\x00\\x00\\x00\\x00\\x00\\x00\\x00\\x00\\x00\\x00\\x00\\x00\\x00\\x00\\x00\\x00\\x00\\x00\\x00\\x00\\x00\\x00\\x00\\x00\\x00\\x00\\x00\\x00\\x00\\x00\\x00\\x00\\x00\\x00\\x00\\x00\\x00\\x00\\x00\\x00\\x00\\x00\\x00\\x00\\x00\\x00\\x00\\x00\\x00\\x00\\x00\\x00\\x00\\x00\\x00\\x00\\x00\\x00\\x00\\x00\\x00\\x00\\x00\\x00\\x00\\x00\\x00\\x00\\x00\\x00\\x00\\x00\\x00\\x00\\x00\\x00\\x00\\x00\\x00\\x00\\x00\\x00\\x00\\x00\\x00\\x00\\x00\\x00\\x00\\x00\\x00\\x00\\x00\\x00\\x00\\x00\\x00\\x00\\x00\\x00\\x00\\x00\\x00\\x00\\x00\\x00\\x00\\x00\\x00\\x00\\x00\\x00\\x00\\x00\\x00\\x00\\x00\\x00\\x00\\x00\\x00\\x00\\x00\\x00\\x00\\x00\\x00\\x00\\x00\\x00\\x00\\x00\\x00\\x00\\x00\\x00\\x00\\x00\\x00\\x00\\x00\\x00\\x00\\x00\\x00\\x00\\x00\\x00\\x00\\x00\\x00\\x00\\x00\\x00\\x00\\x00\\x00\\x00\\x00\\x00\\x00\\x00\\x00\\x00\\x00\\x00\\x00\\x00\\x00\\x00\\x00\\x00\\x00\\x00\\x00\\x00\\x00\\x00\\x00\\x00\\x00\\x00\\x00\\x00\\x00\\x00\\x00\\x00\\x00\\x00\\x00\\x00\\x00\\x00\\x00\\x00\\x00\\x00\\x00\\x00\\x8c\\x92\\xcfJ\\x031\\x10\\x87\\xef\\x82\\xef\\x10\\xe6\\xde\\xcd\\xb6\\x82\\x884\\xdb\\x8b\\x08\\xbd\\x89\\xd4\\x07\\x18\\x93\\xd9?\\xecn&$\\xd3\\xba}{\\x83\\xa0\\xb8\\xb0\\xd6\\x1e\\x93\\xcc|\\xf3\\xcd\\x8flw\\xd38\\xa8\\x13\\xc5\\xd4\\xb17\\xb0.JP\\xe4-\\xbb\\xce7\\x06\\xde\\x0e\\xcf\\xab\\x07PI\\xd0;\\x1c\\xd8\\x93\\x813%\\xd8U\\xb77\\xdbW\\x1aPrSj\\xbb\\x90T\\xa6\\xf8d\\xa0\\x15\\t\\x8fZ\\'\\xdb\\xd2\\x88\\xa9\\xe0@>\\xbf\\xd4\\x1cG\\x94|\\x8c\\x8d\\x0eh{lHo\\xca\\xf2^\\xc7\\xdf\\x0c\\xa8fL\\xb5w\\x06\\xe2\\xde\\xadA\\x1d\\xce!O\\xfe\\x9f\\xcdu\\xddYzb{\\x1c\\xc9\\xcb\\xc2\\x08=\\xaf\\xc8d\\x8c\\r\\x89\\x81i\\xd0\\x1f\\x1c\\xfbw\\xe6\\xbe\\xc8\\xc2\\xa0\\x97]6\\xd7\\xbb\\xfc\\xbd\\xa7\\x1eI\\xd0\\xa1\\xa0\\xb6\\x1ci\\x15bN)J\\x97s\\xfd\\xd1ql_\\xf2u\\xfa\\xaa\\xb8$tw\\xbd\\xd0|\\xf5\\xa5ph\\x12\\xf2\\x8e\\xdce%\\x0c\\xe1\\xdbH\\xcf\\xfe@\\xf5\\t\\x00\\x00\\xff\\xff\\x03\\x00PK\\x03\\x04\\x14\\x00\\x06\\x00\\x08\\x00\\x00\\x00!\\x00\\x8c\\x96\\xc5n\\xf3\\x00\\x00\\x00\\xba\\x02\\x00\\x00\\x1a\\x00\\x08\\x01xl/_rels/workbook.xml.rels \\xa2\\x04\\x01(\\xa0\\x00\\x01\\x00\\x00\\x00\\x00\\x00\\x00\\x00\\x00\\x00\\x00\\x00\\x00\\x00\\x00\\x00\\x00\\x00\\x00\\x00\\x00\\x00\\x00\\x00\\x00\\x00\\x00\\x00\\x00\\x00\\x00\\x00\\x00\\x00\\x00\\x00\\x00\\x00\\x00\\x00\\x00\\x00\\x00\\x00\\x00\\x00\\x00\\x00\\x00\\x00\\x00\\x00\\x00\\x00\\x00\\x00\\x00\\x00\\x00\\x00\\x00\\x00\\x00\\x00\\x00\\x00\\x00\\x00\\x00\\x00\\x00\\x00\\x00\\x00\\x00\\x00\\x00\\x00\\x00\\x00\\x00\\x00\\x00\\x00\\x00\\x00\\x00\\x00\\x00\\x00\\x00\\x00\\x00\\x00\\x00\\x00\\x00\\x00\\x00\\x00\\x00\\x00\\x00\\x00\\x00\\x00\\x00\\x00\\x00\\x00\\x00\\x00\\x00\\x00\\x00\\x00\\x00\\x00\\x00\\x00\\x00\\x00\\x00\\x00\\x00\\x00\\x00\\x00\\x00\\x00\\x00\\x00\\x00\\x00\\x00\\x00\\x00\\x00\\x00\\x00\\x00\\x00\\x00\\x00\\x00\\x00\\x00\\x00\\x00\\x00\\x00\\x00\\x00\\x00\\x00\\x00\\x00\\x00\\x00\\x00\\x00\\x00\\x00\\x00\\x00\\x00\\x00\\x00\\x00\\x00\\x00\\x00\\x00\\x00\\x00\\x00\\x00\\x00\\x00\\x00\\x00\\x00\\x00\\x00\\x00\\x00\\x00\\x00\\x00\\x00\\x00\\x00\\x00\\x00\\x00\\x00\\x00\\x00\\x00\\x00\\x00\\x00\\x00\\x00\\x00\\x00\\x00\\x00\\x00\\x00\\x00\\x00\\x00\\x00\\x00\\x00\\x00\\x00\\x00\\x00\\x00\\x00\\x00\\x00\\x00\\x00\\x00\\x00\\x00\\x00\\x00\\x00\\x00\\x00\\x00\\x00\\x00\\x00\\x00\\x00\\x00\\x00\\x00\\x00\\x00\\x00\\x00\\x00\\x00\\x00\\x00\\x00\\x00\\x00\\x00\\x00\\x00\\xac\\x92\\xcfj\\xc30\\x0c\\xc6\\xef\\x83\\xbd\\x83\\xd1}q\\xd2\\x8d1F\\x9d^\\xc6\\xa0\\xd7-{\\x00c+qhb\\x1bK\\xfb\\x93\\xb7\\x9f\\xc9\\xa0M\\xa1t\\x97\\\\\\x0c\\x9f\\x84\\xbf\\xef\\'\\xa1\\xed\\xeeg\\x1c\\xc4\\x17&\\xea\\x83WP\\x15%\\x08\\xf4&\\xd8\\xdew\\n>\\x9a\\xd7\\xbb\\'\\x10\\xc4\\xda[=\\x04\\x8f\\n&$\\xd8\\xd5\\xb77\\xdb7\\x1c4\\xe7O\\xe4\\xfaH\"\\xbbxR\\xe0\\x98\\xe3\\xb3\\x94d\\x1c\\x8e\\x9a\\x8a\\x10\\xd1\\xe7N\\x1b\\xd2\\xa89\\xcb\\xd4\\xc9\\xa8\\xcdAw(7e\\xf9(\\xd3\\xd2\\x03\\xea3O\\xb1\\xb7\\n\\xd2\\xde\\xde\\x83h\\xa6\\x98\\x93\\xff\\xf7\\x0em\\xdb\\x1b|\\t\\xe6sD\\xcf\\x17\"$\\xf14\\xe4\\x01D\\xa3S\\x87\\xac\\xe0O\\x17\\x99\\x11\\xe4\\xe5\\xf8\\x87U\\xe3\\x9dNh\\xdf9\\xe5\\xed.)\\x96\\xe5k0\\xd5\\x9a0\\xdf!\\x1d\\xc8!\\xf2i\\x1d\\xc7\\x12\\xc9\\xb9S]\\x83\\xd9\\xac\\t\\xc3\\xf9`\\xf0\\x042K9\\xbfG\\x06yvq\\xf5/\\x00\\x00\\x00\\xff\\xff\\x03\\x00PK\\x03\\x04\\x14\\x00\\x06\\x00\\x08\\x00\\x00\\x00!\\x00\\xce5\\xa5\\x97\\xb3\\x01\\x00\\x00\\xc4\\x02\\x00\\x00\\x0f\\x00\\x00\\x00xl/workbook.xml\\x8cRM\\x8f\\xd30\\x10\\xbd#\\xf1\\x1f,\\xdfS;nS\\x96*\\xc9j\\xe9\\x87\\xa8\\x84\\xd0J\\xc0\\xee\\xd98\\x93\\xc6\\xda\\xd8\\x8el\\x87d\\x85\\xf8\\xefL\\x12\\n\\x8b\\xb8p\\x9aO?\\xcf\\x9b7\\xf9\\xedhZ\\xf2\\r|\\xd0\\xce\\x164]qJ\\xc0*Wi{)\\xe8\\x97\\xcf\\xa7\\xe4\\x86\\x92\\x10\\xa5\\xadd\\xeb,\\x14\\xf4\\x19\\x02\\xbd-_\\xbf\\xca\\x07\\xe7\\x9f\\xbe:\\xf7D\\x10\\xc0\\x86\\x8261v;\\xc6\\x82j\\xc0\\xc8\\xb0r\\x1dX\\xac\\xd4\\xce\\x1b\\x191\\xf4\\x17\\x16:\\x0f\\xb2\\n\\r@4-\\x13\\x9co\\x99\\x91\\xda\\xd2\\x05a\\xe7\\xff\\x07\\xc3\\xd5\\xb5Vpp\\xaa7`\\xe3\\x02\\xe2\\xa1\\x95\\x11\\xc7\\x0f\\x8d\\xee\\x02-\\xf3Z\\xb7\\xf0\\xb00\"\\xb2\\xeb>J\\x83s\\x8f-%\\xad\\x0c\\xf1X\\xe9\\x08UA3\\x0c\\xdd\\x00\\x7f%|\\xdf\\xbd\\xebu\\x8bU\\xc1\\xdf\\xa6\\x9c\\xb2\\xf27\\xcb{Od\\x1f\\xdd\\xde\\x19$\\x11\\xc2\\xbdV\\xb1G\\xa7\\xa0s\\xd7\\xb4\\x87\\x07\\rC\\xf8\\xf3`\\n\\xc9\\xf8\\xa8m\\xe5\\x86\\xa9\\x8b<\\xbf\\xf0\\x879\\xfd\\xa8\\xab\\xd8\\xe0_\\xd9\\x96c}\\xc9\\xbd\\x07}i\"\\n\\xb1I\\xc5\\x0c\\xcd^`\\xcf\\xab\\xc3?fK\\xec\\xcc\\xeb\\xd3\\xb4\\xce\\x145\\x9a\\xec\\x19GG\\xdf\\xef4:\\xfe\\\\\\xa5\\x13\\x05v}\\xa6d\\xab\\x90\\xc7d\\xe6\\xc6\\r\\xe7\\x1c\\xbb\\x95\\xb3\\xaa\\xf7\\x1e\\xd7\\xb9\\xc7\\xca/F0\\xc6\\x0f!\\x969Z\\xd2{]\\xd0\\xefo2\\xb1>f\\x87u\"\\xb2\\xd3:\\xb9\\xcb\\x8e<I\\xb7k\\x91l7\\'\\x91m\\xf6Bl2\\xf1\\xe3\\xaa\\xa5\\x19\\xff\\x11\\xd3h\\xe5]pu\\\\)g\\xd8\\xa2#\\xea\\xaf\\x18\\x8c\\n\\xe6s\\xb8Y\\xce\\xa1\\xcc\\xcd\\xb8\\xbb\\xf3\\xaa9\\x1f\\xc8\\xa9\\x95\\x17\\\\\\xb2\\x98y\\xe0,\\xc8\\xe6:\\x19\\xbb\\x1e`\\xf9\\x13\\x00\\x00\\xff\\xff\\x03\\x00PK\\x03\\x04\\x14\\x00\\x06\\x00\\x08\\x00\\x00\\x00!\\x00\\x0eD\\x8d\\xfb,\\x01\\x00\\x00\\x16\\x03\\x00\\x00\\x14\\x00\\x00\\x00xl/sharedStrings.xmltR;O\\xc30\\x10\\xde\\x91\\xf8\\x0f\\x91w\\xeaP\\x89\\x87P\\x92\\x0eH\\xc0\\xd4\\tft\\xc4\\xd7\\xc4\\xc8\\xb1\\x8d\\xef\\xdc\\xd2\\x7f\\x8f\\xa1B\\xaar\\xed\\xe8\\xefe\\xfb\\xbekV\\xdf\\x93\\xab\\xb6\\x98\\xc8\\x06\\xdf\\xaa\\xebE\\xad*\\xf4}0\\xd6\\x0f\\xadz{}\\xba\\xbaW\\x151x\\x03.xl\\xd5\\x1eI\\xad\\xba\\xcb\\x8b\\x86\\x88\\xab\\xe2\\xf5\\xd4\\xaa\\x919>hM\\xfd\\x88\\x13\\xd0\"D\\xf4\\x85\\xd9\\x844\\x01\\x97c\\x1a4\\xc5\\x84`hD\\xe4\\xc9\\xe9e]\\xdf\\xea\\t\\xacWU\\x1f\\xb2\\xe7V\\xdd\\xd4KUeo\\xbf2>\\x1e\\x90\\xe5\\x9d\\xea\\x1a\\xb2]\\xc3\\x1da\\x04\\xf7\\xee\\xd0\\x0f<6\\x9a\\xbbF\\xff\\xe2\\xc7\\xdc\\xce\\x1aIE\\xe4\\xb3\\xb6\\x03w\\xd2F\\x11{\\x8b$/\\xe2@0G\\xff\\x06\\xd7\\x07\\x17\\x92`l\\x1a\\xac\\xb7\\xbd\\xb0\\x9cT\\x87d\\x8bz\\x9e\\x91\\xe5\\x85\\x9f\\x10A\\xe80\\xa72s\\xe1\\x06\\xf1\\t\\xccpJ\\xf9\\xe1\\xb2p\\xafa=\\x0f\\x0c\\t\\xfc \\x84{t.\\xec\\xe6\\xda\\x84f\\x0e\\r\\tQ<=\\xe6\\x14\\x9d\\xc8|\\xb1\\xc6\\xa0\\x7f\\x86\\x94\\x90y\\x9eC\\x18X\\x0e\\xe6\\xbf\\x89sE\\x88\\x1evX\\x16x{h\\xe9\\x88\\xd4e\\xaf\\xbb\\x1f\\x00\\x00\\x00\\xff\\xff\\x03\\x00PK\\x03\\x04\\x14\\x00\\x06\\x00\\x08\\x00\\x00\\x00!\\x00\\xe9\\xa6%\\xb8\\x82\\x06\\x00\\x00S\\x1b\\x00\\x00\\x13\\x00\\x00\\x00xl/theme/theme1.xml\\xecYOo\\xdb6\\x14\\xbf\\x0f\\xd8w tom\\'\\xb6\\x1b\\x07u\\x8a\\xd8\\xb1\\x9b\\xadM\\x1b\\xc4n\\x87\\x1ei\\x99\\x96XS\\xa2@\\xd2I}\\x1b\\xda\\xe3\\x80\\x01\\xc3\\xbaa\\x97\\x01\\xbb\\xed0l+\\xd0\\x02\\xbbt\\x9f&[\\x87\\xad\\x03\\xfa\\x15\\xf6HJ\\xb2\\x18\\xcbK\\xd2\\x06\\x1b\\xd6\\xd5\\x87D\"\\x7f|\\xff\\xdf\\xe3#u\\xf5\\xda\\x83\\x88\\xa1C\"$\\xe5q\\xdb\\xab]\\xaez\\x88\\xc4>\\x1f\\xd38h{w\\x86\\xfdK\\x1b\\x1e\\x92\\n\\xc7c\\xccxL\\xda\\xde\\x9cH\\xef\\xda\\xd6\\xfb\\xef]\\xc5\\x9b*$\\x11A\\xb0>\\x96\\x9b\\xb8\\xed\\x85J%\\x9b\\x95\\x8a\\xf4a\\x18\\xcb\\xcb<!1\\xccM\\xb8\\x88\\xb0\\x82W\\x11T\\xc6\\x02\\x1f\\x01\\xdd\\x88U\\xd6\\xaa\\xd5f%\\xc24\\xf6P\\x8c# {{2\\xa1>ACM\\xd2\\xdb\\xca\\x88\\xf7\\x18\\xbc\\xc6J\\xea\\x01\\x9f\\x89\\x81&M\\x9c\\x15\\x06;\\x9e\\xd64B\\xcee\\x97\\tt\\x88Y\\xdb\\x03>c~4$\\x0f\\x94\\x87\\x18\\x96\\n&\\xda^\\xd5\\xfc\\xbc\\xca\\xd6\\xd5\\n\\xdeL\\x171\\xb5bma]\\xdf\\xfc\\xd2u\\xe9\\x82\\xf1t\\xcd\\xf0\\x14\\xc1(gZ\\xeb\\xd7[Wvr\\xfa\\x06\\xc0\\xd42\\xae\\xd7\\xebu{\\xb5\\x9c\\x9e\\x01`\\xdf\\x07M\\xad,E\\x9a\\xf5\\xfeF\\xad\\x93\\xd1,\\x80\\xec\\xe32\\xedn\\xb5Q\\xad\\xbb\\xf8\\x02\\xfd\\xf5%\\x99[\\x9dN\\xa7\\xd1Je\\xb1D\\r\\xc8>\\xd6\\x97\\xf0\\x1b\\xd5f}{\\xcd\\xc1\\x1b\\x90\\xc57\\x96\\xf0\\xf5\\xcev\\xb7\\xdbt\\xf0\\x06d\\xf1\\xcd%|\\xffJ\\xabYw\\xf1\\x06\\x142\\x1aO\\x97\\xd0\\xda\\xa1\\xfd~J=\\x87L8\\xdb-\\x85o\\x00|\\xa3\\x9a\\xc2\\x17(\\x88\\x86<\\xba4\\x8b\\t\\x8f\\xd5\\xaaX\\x8b\\xf0}.\\xfa\\x00\\xd0@\\x86\\x15\\x8d\\x91\\x9a\\'d\\x82}\\x88\\xe2.\\x8eF\\x82b\\xcd\\x00o\\x12\\\\\\x98\\xb1C\\xbe\\\\\\x1a\\xd2\\xbc\\x90\\xf4\\x05MT\\xdb\\xfb0\\xc1\\x90\\x11\\x0bz\\xaf\\x9e\\x7f\\xff\\xea\\xf9S\\xf4\\xea\\xf9\\x93\\xe3\\x87\\xcf\\x8e\\x1f\\xfet\\xfc\\xe8\\xd1\\xf1\\xc3\\x1f--g\\xe1.\\x8e\\x83\\xe2\\xc2\\x97\\xdf~\\xf6\\xe7\\xd7\\x1f\\xa3?\\x9e~\\xf3\\xf2\\xf1\\x17\\xe5xY\\xc4\\xff\\xfa\\xc3\\'\\xbf\\xfc\\xfcy9\\x102h!\\xd1\\x8b/\\x9f\\xfc\\xf6\\xec\\xc9\\x8b\\xaf>\\xfd\\xfd\\xbb\\xc7%\\xf0m\\x81GE\\xf8\\x90FD\\xa2[\\xe4\\x08\\x1d\\xf0\\x08t3\\x86q%\\'#q\\xbe\\x15\\xc3\\x10Sg\\x05\\x0e\\x81v\\t\\xe9\\x9e\\n\\x1d\\xe0\\xad9fe\\xb8\\x0eq\\x8dwW@\\xf1(\\x03^\\x9f\\xddwd\\x1d\\x84b\\xa6h\\t\\xe7\\x1ba\\xe4\\x00\\xf78g\\x1d.J\\rpC\\xf3*Xx8\\x8b\\x83r\\xe6bV\\xc4\\x1d`|X\\xc6\\xbb\\x8bc\\xc7\\xb5\\xbdY\\x02U3\\x0bJ\\xc7\\xf6\\xdd\\x908b\\xee3\\x1c+\\x1c\\x90\\x98(\\xa4\\xe7\\xf8\\x94\\x90\\x12\\xed\\xeeQ\\xea\\xd8u\\x8f\\xfa\\x82K>Q\\xe8\\x1eE\\x1dLKM2\\xa4#\\'\\x90\\x16\\x8bvi\\x04~\\x99\\x97\\xe9\\x0c\\xaevl\\xb3w\\x17u8+\\xd3z\\x87\\x1c\\xbaHH\\x08\\xccJ\\x84\\x1f\\x12\\xe6\\x98\\xf1:\\x9e)\\x1c\\x95\\x91\\x1c\\xe2\\x88\\x15\\r~\\x13\\xab\\xb0L\\xc8\\xc1\\\\\\xf8E\\\\O*\\xf0t@\\x18G\\xbd1\\x91\\xb2l\\xcdm\\x01\\xfa\\x16\\x9c~\\x03C\\xbd*u\\xfb\\x1e\\x9bG.R(:-\\xa3y\\x13s^D\\xee\\xf0i7\\xc4QR\\x86\\x1d\\xd08,b?\\x90S\\x08Q\\x8c\\xf6\\xb9*\\x83\\xefq7C\\xf4;\\xf8\\x01\\xc7+\\xdd}\\x97\\x12\\xc7\\xdd\\xa7\\x17\\x82;4pDZ\\x04\\x88\\x9e\\x99\\t\\xedK(\\xd4N\\xfd\\x8dh\\xfcw\\xc5\\x98Q\\xa8\\xc66\\x06\\xde\\x15\\xe3\\xb6\\xb7\\r[SYJ\\xec\\x9e(\\xc1\\xabp\\xff\\xc1\\xc2\\xbb\\x83g\\xf1>\\x81X_\\xdex\\xde\\xd5\\xddwu\\xd7{\\xeb\\xeb\\xee\\xaa\\\\>k\\xb5]\\x14X\\xa8\\xbd\\xbay\\xb0}\\xb1\\xe9\\x92\\xa3\\x95M\\xf2\\x8426PsFnJ\\xd3\\'K\\xd8,\\xc6}\\x18\\xd4\\xeb\\xcc\\x01\\x91\\xe4\\x87\\xa6$\\x84\\xc7\\xb4\\xb8;\\xb8@`\\xb3\\x06\\t\\xae>\\xa2*\\x1c\\x848\\x81\\x1e\\xbb\\xe6i\"\\x81LI\\x07\\x12%\\\\\\xc2\\xd9\\xce\\x0c\\x97\\xd2\\xd6x\\xe8\\xd3\\x95=\\x196\\xf4\\x99\\xc1\\xd6\\x03\\x89\\xd5\\x1e\\x1f\\xdb\\xe1u=\\x9c\\x1d\\rr2f\\xcb\\t\\xcc\\xf93c\\xb4\\xae\\t\\x9c\\x95\\xd9\\xfa\\x95\\x94(\\xa8\\xfd:\\xccjZ\\xa83s\\xab\\x19\\xd1L\\xa9s\\xb8\\xe5*\\x83\\x0f\\x97U\\x83\\xc1\\xdc\\x9a\\xd0\\x85 \\xe8]\\xc0\\xcaM8\\xa2k\\xd6p6\\xc1\\x8c\\x8c\\xb5\\xdd\\xed\\x06\\x9c\\xb9\\xc5x\\xe1\"]$C<&\\xa9\\x8f\\xb4\\xde\\xcb>\\xaa\\x19\\'e\\xb1b.\\x03 vJ|\\xa4\\xcfy\\xa7X\\xad\\xc0\\xad\\xa5\\xc9\\xbe\\x01\\xb7\\xb38\\xa9\\xc8\\xae\\xbe\\x82]\\xe6\\xbd7\\xf1R\\x16\\xc1\\x0b/\\xe9\\xbc=\\x91\\x8e,.&\\'\\x8b\\xd1Q\\xdbk5\\xd6\\x1a\\x1e\\xf2q\\xd2\\xf6&p\\xac\\x85\\xc7(\\x01\\xafK\\xdd\\xf8a\\x16\\xc0\\xdd\\x90\\xaf\\x84\\r\\xfbS\\x93\\xd9d\\xf9\\xc2\\x9b\\xadL17\\tjpSa\\xed\\xbe\\xa4\\xb0S\\x07\\x12!\\xd5\\x0e\\x96\\xa1\\r\\r3\\x95\\x86\\x00\\x8b5\\'+\\xffZ\\x03\\xcczQ\\n\\xd8H\\x7f\\r)\\xd67 \\x18\\xfe5)\\xc0\\x8e\\xaek\\xc9dB|UtvaD\\xdb\\xce\\xbe\\xa6\\xa5\\x94\\xcf\\x14\\x11\\x83p|\\x84Fl&\\x0e0\\xb8_\\x87*\\xe83\\xa6\\x12n\\'LE\\xd0/p\\x95\\xa6\\xadm\\xa6\\xdc\\xe2\\x9c&]\\xf1\\x02\\xcb\\xe0\\xec8fI\\x88\\xd3r\\xabS4\\xcbd\\x0b7y\\x9c\\xcb`\\xde\\n\\xe2\\x81n\\xa5\\xb2\\x1b\\xe5\\xce\\xaf\\x8aI\\xf9\\x0bR\\xa5\\x18\\xc6\\xff3U\\xf4~\\x02\\xd7\\x05\\xebc\\xed\\x01\\x1fnr\\x05F:_\\xdb\\x1e\\x17*\\xe4P\\x85\\x92\\x90\\xfa}\\x01\\x8d\\x83\\xa9\\x1d\\x10-p\\x1d\\x0b\\xd3\\x10Tp\\x9fl\\xfe\\x0br\\xa8\\xff\\xdb\\x9c\\xb34LZ\\xc3\\xa9O\\x1d\\xd0\\x00\\t\\n\\xfb\\x91\\n\\x05!\\xfbP\\x96L\\xf4\\x9dB\\xac\\x96\\xee]\\x96$K\\t\\x99\\x88*\\x88+\\x13+\\xf6\\x88\\x1c\\x126\\xd45\\xb0\\xa9\\xf7v\\x0f\\x85\\x10\\xea\\xa6\\x9a\\xa4e\\xc0\\xe0N\\xc6\\x9f\\xfb\\x9ef\\xd0(\\xd0MN1\\xdf\\x9c\\x1a\\x92\\xef\\xbd6\\x07\\xfe\\xe9\\xce\\xc7&3(\\xe5\\xd6a\\xd3\\xd0d\\xf6\\xcfE,\\xd9U\\xedz\\xb3<\\xdb{\\x8b\\x8a\\xe8\\x89E\\x9bU\\xcf\\xb2\\x02\\x98\\x15\\xb6\\x82V\\x9a\\xf6\\xaf)\\xc29\\xb7Z[\\xb1\\x964^kd\\xc2\\x81\\x17\\x975\\x86\\xc1\\xbc!J\\xe0\\xd2\\x07\\xe9?\\xb0\\xffQ\\xe13\\xfbqBo\\xa8C~\\x00\\xb5\\x15\\xc1\\xb7\\x06M\\x0c\\xc2\\x06\\xa2\\xfa\\x92m<\\x90.\\x90vp\\x04\\x8d\\x93\\x1d\\xb4\\xc1\\xa4IY\\xd3\\xa6\\xad\\x93\\xb6Z\\xb6Y_p\\xa7\\x9b\\xf3=al-\\xd9Y\\xfc}Nc\\xe7\\xcd\\x99\\xcb\\xce\\xc9\\xc5\\x8b4vja\\xc7\\xd6vl\\xa5\\xa9\\xc1\\xb3\\'S\\x14\\x86&\\xd9A\\xc68\\xc6|\\xd5*~x\\xe2\\xa3\\xfb\\xe0\\xe8\\x1d\\xb8\\xe2\\x9f1%M0\\xc1g%\\x81\\xa1\\xf5\\x1c\\x98<\\x80\\xe4\\xb7\\x1c\\xcd\\xd2\\xad\\xbf\\x00\\x00\\x00\\xff\\xff\\x03\\x00PK\\x03\\x04\\x14\\x00\\x06\\x00\\x08\\x00\\x00\\x00!\\x00z\\x18\\x8c\\x9a\\xd5\\x03\\x00\\x00\\x86#\\x00\\x00\\r\\x00\\x00\\x00xl/styles.xml\\xecZKo\\xdb0\\x0c\\xbe\\x0f\\xd8\\x7f0to\\x1d;k\\xb7\\x16\\xb6\\x8bm@\\xb0\\x02[1`\\x1d\\xb0\\xabb\\xcb\\x89P=\\x0cY\\xee\\x92\\xfe\\xfa\\x91r\\x9c\\x07\\x92,[\\xad=\\x0e\\xee\\xa1\\x91d\\x91\\xa2>R\\xb4\\xf21\\xc9\\xcdB\\x8a\\xe0\\x91\\x99\\x9ak\\x95\\x92\\xe8|D\\x02\\xa6r]p5K\\xc9\\xd7\\xfb\\xc9\\xd9\\x1b\\x12\\xd4\\x96\\xaa\\x82\\n\\xadXJ\\x96\\xac&7\\xd9\\xcb\\x17Im\\x97\\x82}\\x993f\\x03P\\xa1\\xea\\x94\\xcc\\xad\\xad\\xae\\xc3\\xb0\\xce\\xe7L\\xd2\\xfa\\\\WL\\xc1\\x93R\\x1bI-t\\xcd,\\xac+\\xc3hQ\\xa3\\x90\\x14a<\\x1a]\\x86\\x92rEZ\\r\\xd72\\xff\\x15%\\x92\\x9a\\x87\\xa6:\\xcb\\xb5\\xac\\xa8\\xe5S.\\xb8]:]$\\x90\\xf9\\xf5\\xedLiC\\xa7\\x02L]D\\xafh\\xde\\xe9v\\x9d=\\xf5\\x92\\xe7F\\xd7\\xba\\xb4\\xe7\\xa0.\\xd4e\\xc9s\\xb6o\\xe5Ux\\x15\\x82\\xa6,)\\xb5\\xb2u\\x90\\xebF\\xd9\\x94\\\\\\x80j\\\\\\xe1\\xfaA\\xe9\\xefj\\x82\\x8f\\x00\\xc0\\xd5\\xac,\\xa9\\x9f\\x82G*`$\"a\\x96\\xe4Zh\\x13X@\\x06\\x0cs#\\x8aJ\\xd6\\xcexO\\x05\\x9f\\x1a\\x8e\\xd3J*\\xb9X\\xb6\\xc31\\x0e80W\\xf3$\\x87\\xad\\xe1`\\x88v\\xb4\\xd6d\\xc9\\x14g\\xed\\xacuP\\xf3\\x8eL\\xb3\\'\\xb3k\\xdf\\x08W9\\xa8\\xe6\\x19\\x06\\x9eZ\\xcc+\\x1a\\xbbH\\xb4\\xbb2\\xb3iJ&\\x93\\x91\\xfb\\xf3\\xb33\\x87f\\r.\\xe0B\\xac\\x03\"F\\xdf\\xc3@\\x96@`Zf\\xd4\\x04:\\xc1\\xaa}\\xbf\\xac\\xc0\\xf3\\n\\xceP\\xebA7\\xef\\xc4\\xec\\x99\\xa1\\xcb(\\xbe\\xd8\\x12\\x08\\xdd\\x82\\xe0tm\\n8\\xb3](\\xe2\\xca\\xedP\\x96\\x08VZ\\xf0\\x9e\\xe1\\xb39~Z]\\xc1\\xff\\xa9\\xb6\\x16\\x02<K\\nNgZQ\\x01\\xcd\\xb0\\x93\\xe8>Q\\x12\\xce:\\x1c\\xeb\\x94\\xd89\\x1c\\xcb.lic\\xf5*jC\\x9c\\xb4\\xd2~r\\xae\\xb3\\xc1\\x99pr*\\x98\\xd9Yyrn\\xbb\\x99\\xc3{Ym\\n\\\\\\x933!\\xbe\\xe0f\\xbe\\x95k\\x9c\\xc6\\x17\\xb0\\xa7E\\x19\\xa8FN\\xa4\\xbd-R\\x02\\xe9\\x0e\\x0fS\\xd7\\x04\\xaf\\xac\\x9a-(m\\x07\\xc0:&\\x14\\x83\\xfca\\xa1\\x80V\\x95X\\xde5r\\xca\\xcc\\xc4\\xe5@\\xb7\\x9a\\x1b\\xc5\\xc0\\xd8\\xf4\\xde9gn\\xfao\\x05\\x9f)\\xc90\\xc7\\x80yN\\xe0\\xb3\\xd1\\x96\\xe5\\xd6\\xe5hw8\\x8f\\xd93\\xfe\\xcf\\xec\\x19\\xf0\\x01\\x1f\\x0e\\xf1\\xf3\\xecx\\x1e\\xe2g\\x88\\x9f>\\xf9p\\x88\\x9f!~\\x86\\xf8\\xf9s\\xf7\\x8d\\xe1|\\r\\xe7k8_\\xc3\\xf9\\xea\\xbe\\xa8\\xfc\\xed\\xef;C\\xfe\\x19\\xf2\\xcf\\x90\\x7f\\x86\\xfc3\\xe4\\x9f\\x96\\xc4\\xfaW\\xfcO\\xb8M\\xb7\\xb5\\xe4\\xdb6\\xef\\xf6,\\xda-X\\x94\\'\\xf9\\xb7\\xe8\\x08\\xdf\\x05\\xe3\\x9dt\\xcb\\xa0!?\\x8f\\x1cf\\xdb\\xeb(\\xb7\\xae\\xbf\\x95B\\x90\\xc1\\xa7\\x1d\\x03\\x17\\xcc\\xb5\\xe1O \\x8aL~\\x0e\\x94\\x1c3\\x04\\xab%\\x96\\xe78\\x02\\xac\\xa5#g\\x17\\xe5q\\x86\\xf0\\xd5\\x11\\x0b!b\\x0f[\\x88\\xd4,\\xa2\\t\\xf8m\\xb1\\x98\\xbb\\x1c\\xe6\\x1a\\xed\\x00Yz`\\xb7\\xb5\\x10\\xfa;+\\x82\\x0f@3\\x1b\\xc1\\xd5C\\xa7\\x1d^\\x90\\xd3\\x86\\x0b\\xcb\\x15byE\\x829/\\n\\x86\\xa5\\x1e\\xb4\\xfc\\xd7\\xf5\\xc06\\xbc\\xe8\\xb9\\xf4\\xa4\\x07\\xcaR^\\xec\\x89\\xc0\\x0f~\\x14\\xf9B:\\xf2\\x05u\\xe4\\x0b\\xeb\\xc8\\x17\\xd8\\xb1/\\xb0c_`\\xc7\\xbe\\xc0\\x8e}\\x81\\x1d\\xfb\\x02{\\xec\\x0b\\xec\\xb1/\\xb0\\xc7\\xbf\\x07\\xf6^.\\x83l\\xbduT\\x01\\xa7\\x9f\\xe6\\xb2=qx7\\xf6\\x11\\x87zo\\x1f\\xf1\\xd7\\xfd\\xc4!s\\xf7Y\\x1d\\xaa\\xd0\\xfd\\xe4{\\x82\\x17\\xf5D/\\xea\\t_\\xd4\\x13\\xbf\\xb8\\'~qO\\xfc\\xa0\\n\\xdc\\xcb\\x7fqO\\xfc\\xe2\\x9e\\xf8\\x8d{\\xe27\\xfe=\\xfc\\xee\\xb0\\xe0*\\xba;\\xd0n\"t\\xf5\\xb8\\xcd}\\x15.Y\\xc5bS\"vO-\\xfe\\x80\\xc4\\x15\\x8f\\xd7\\xd7.\\xd0Q\\xb0\\x926\\xc2\\xde\\xaf\\x1f\\xa6d\\xd3\\xfe\\xc4\\n\\xdeH@i5\\xeb3\\x7f\\xd4\\xd6\\xa9H\\xc9\\xa6\\xfd\\x11\\xab\\xf2\\xf0^\\xc6;\\x9e\\xab\\xb4\\xbb\\x1f\\xd0d?\\x00\\x00\\x00\\xff\\xff\\x03\\x00PK\\x03\\x04\\x14\\x00\\x06\\x00\\x08\\x00\\x00\\x00!\\x00F_\\xd0S\\x97\\x1d\\x00\\x00\\x05\\x9e\\x00\\x00\\x18\\x00\\x00\\x00xl/worksheets/sheet1.xml\\x8c]\\xdbr\\x1b9\\x92}\\xdf\\x88\\xfd\\x07\\x85\\xde\\x9bb\\xf1*:lOt]HNDOl\\xc7\\xce\\xee\\xcc3MS\\x16\\xa3%Q+\\xd2\\x97\\x9e\\x8d\\xfd\\xf7\\xcd,$\\x80\\xbc\\xa1\\xe8~h\\xdby*Q\\xc8\\x83D\\xe2\\x14\\xaa$\\xbc\\xff\\xcb\\x8f\\xe7\\xa7\\x9bo\\x87\\xb7\\xf3\\xf1\\xf4\\xf2\\xe1\\xb6\\x1a\\x8doo\\x0e/\\xfb\\xd3\\xe7\\xe3\\xcb\\x97\\x0f\\xb7\\xff\\xfd_\\xeb_\\xeeoo\\xce\\x97\\xdd\\xcb\\xe7\\xdd\\xd3\\xe9\\xe5\\xf0\\xe1\\xf6\\xcf\\xc3\\xf9\\xf6/\\x1f\\xff\\xfd\\xdf\\xde\\x7f?\\xbd\\xfdq~<\\x1c.7\\xd0\\xc2\\xcb\\xf9\\xc3\\xed\\xe3\\xe5\\xf2\\xfa\\xee\\xee\\xee\\xbc\\x7f<<\\xef\\xce\\xa3\\xd3\\xeb\\xe1\\x05\\x90\\x87\\xd3\\xdb\\xf3\\xee\\x02\\xff|\\xfbrw~};\\xec>\\xf7N\\xcfOw\\x93\\xf1xq\\xf7\\xbc;\\xbe\\xdc\\x86\\x16\\xde\\xbd\\xfdL\\x1b\\xa7\\x87\\x87\\xe3\\xfe\\xd0\\x9e\\xf6_\\x9f\\x0f/\\x97\\xd0\\xc8\\xdb\\xe1iw\\x81\\xfe\\x9f\\x1f\\x8f\\xaf\\xe7\\xd8\\xda\\xf3\\xfeg\\x9a{\\xde\\xbd\\xfd\\xf1\\xf5\\xf5\\x97\\xfd\\xe9\\xf9\\x15\\x9a\\xf8t|:^\\xfe\\xec\\x1b\\xbd\\xbdy\\xde\\xbf\\xfb\\xeb\\x97\\x97\\xd3\\xdb\\xee\\xd3\\x13\\xc4\\xfd\\xa3\\x9a\\xed\\xf6\\xb1\\xed\\xfe\\x1f\\xa6\\xf9\\xe7\\xe3\\xfe\\xedt>=\\\\F\\xd0\\xdc]\\xe8\\xa8\\x8dyu\\xb7\\xba\\x83\\x96>\\xbe\\xff|\\x84\\x08\\x90\\xf6\\x9b\\xb7\\xc3\\xc3\\x87\\xdb_\\xabw\\xdbj^\\xdd\\xde}|\\xdf3\\xf4\\x8f\\xe3\\xe1\\xfb\\x99\\xfd\\xfd\\xe6\\xb2\\xfb\\xf4\\xf7\\xc3\\xd3a\\x7f9|\\x86\\x81\\xba\\xbd\\xb9\\x9c^\\x7f;<\\\\\\x9a\\xc3\\xd3\\x13zO\\xc1\\x84c\\xf2\\xe9t\\xfa\\x03}\\xff\\nW\\x8d\\xe16\\xe7\\xde\\x07o\\xb3\\xdb_\\x8e\\xdf\\x0e\\xe1\\xfaM5]\\xc2\\xc0\\xfeO\\x7f\\xeb\\xfe\\x1fp\\xdf\\xbbtc\\xfe\\xf7\\xd8\\x89u?\\x92\\xbf\\xbf\\xdd|\\xda\\x9d\\x0f\\xcd\\xe9\\xe9\\x9f\\xc7\\xcf\\x97G\\xe8\\td\\xcc\\xe7\\xc3\\xc3\\xee\\xeb\\xd3%\\x1b\\xefG\\xf7\\xd3\\xc9xZM\\xe6\\t\\xfc\\xcf\\xd3\\xf7\\xed\\xe1\\xf8\\xe5\\xf1\\x02.3 \\x12\\xf9|\\xf7\\xf9\\xcf\\xf6p\\xde\\xc3@b_\\xa1\\x07\\xfb\\xd3\\x13\\xdc\\x0e\\xfe\\x7f\\xf3|\\x84t\\x9c\\xc0(\\xec~\\xf4\\x7f~\\xa7\\xbb\\xcdG\\xd0\\xe4\\xfe\\xeb\\xf9rz\\x8e\\x1d \\xc7\\xe02%\\x17\\xf83\\xba\\xc0_\\x07\\x1c\\xa0/\\xfd=\\xe0\\xcf\\xe40Z,f\\xe3\\x05v~\\xc0\\x11\\xd0\\xde\\x11\\xfe\\x8c\\x8e\\xf3QUv\\xbc\\x0b\\xc1\\xf5\\x1c\\xb7\\xbb\\xcb\\xee\\xe3\\xfb\\xb7\\xd3\\xf7\\x1bHz\\x18\\xb8\\xf3\\xeb\\x0e\\xa7P\\xf5\\xee\\x1eFl\\x8f\\xc6\\x1a\\xad=\\x06\\xdc\\x9c\\xc1\\xfa\\xed\\xe3\\xf8\\xfd\\xdd7\\x18\\x98=]\\xd1\\xd8+*yEk\\xaf\\x98\\xc8+:{\\xc5T^\\xb1\\xb6W\\xcc\\xe4\\x15\\x1b{\\xc5\\xbd\\xbcb\\x0bW\\xa4(V\\t\\xbb\\x83\\xf8\\x13\\t0\\xd4\\x96\\x84_\\xd1\\x8a$8\\xe1\\xd7\\x93\\xde:\\x1f\\x8dW\\xe2\\xbfEj\\xbf\\xe7\\xb1\\t\\x97MGsio\\x83\\xbd\\x1a\\xa9h\\xba`\\x1f\\x8f\\x14Sk\\xe8J\\x8aA\\xb5\\xb5\\xe1\\xd8D\\r\\xd3\\x96\\x83U\\x06E\\xf4\\x90\\xa2N\\xf4h\\x8d\\xd1\\xab\\xa1\\xad\\xa7}\\xf4\\xb3\\xd1j,\\xfeS\\xd14\\xe125\\xa6m\\xb0\\xda\\xd8\\x83\\xdd\\xc6\\x0e\\x1d)\\xc6\\xce\\xb1J\\x0f\\xbc\\x00\\x0b\\xb1\\xc3\\xc4sbGk\\x8c]\\rE=\\xa3\\xd8\\x97rH\\x9b`\\x9f\\xea\\xa1k\\x83\\xbd\\x1a)\\x1a\\xba`\\xb7\\xe1\\xc2\\xbd\\x8b\\xe1r\\xcc\\x0c5\\x07KC\\r\\xe5\\xc2\\t\\x17\\xad1\\\\\\xd5\\xcdzN\\xe1\\xceE\\x9e\\xaft\\xa2\\x87\\xcb\\xa6#\\x95)m\\xb0Wz\\x02t\\xc1n\\xa3\\x87\\xae\\x14\\xa3\\xe7X\\xa5\\xe8\\xdf\\n0\\xf7B$\\xfa\\xc2\\x8d\\x1e\\xad1z\\x95\\xc1\\xf5\"Ls5\\xd4\\xc1:\\x1d)\\x12\\xda`\\xb7\\x99\\x1d\\xec6X\\xb8s1X\\x8eUj\\xcao\\x05\\x98\\x13T\\x04\\x8b+\\xac)\\xec\\xbf\\xa25\\x06\\xabZ\\xad\\x97!X]\\x94\\x9a`\\x9f\\x8er\\xf1\\xec\\x8b[\\x1b\\xec\\xd5H\\rE\\x17\\xecc\\xdd\\xce\\x1a\\xee]\\x0c\\x97c&\\xb39X\\x15\\xc2E\\xa5h\\xc3Ek\\x0cW\\x8dV\\x8d\\xab\\xdd\\xb7\\x8f\\xb3\\xd1\\x95\\xcc\\x0e\\x97Mu4m\\xb0\\xdb\\xc1\\xa6\\xebs\\xbd\\xe9\\xc9ZCO\\x8a\\xc1s\\xcc\\x04\\xcf\\xc1R\\xf0+7x\\xb4\\xc6\\xe0\\xd5\\x18\\xd5+7\\xb1\\xc1#u\\xb2R|\\xb5\\xc1\\xc5N\\xe5`\\xb7\\xd9\\xcd\\x1bS\\xa9\\xb6\\xe1\\x98\\xa9\\xdb\\x02,\\x0c7\\n?g\\xbc{s\\x8cY\\xad\\x075\\x80a\\xc4gb\\xd5\\x1a\\xabI\\xdf\\xd0u\\x13\\x93\\xf0\\x04\\xd81\\'\\xc0r\\x00@fT\\x93 @3\\xc7%\\x9a\\xd3IL\\xf2\\n\\xe5\\x8fM\\xfb\\xde\\x1ciP\\xd3\\xb6\\x060\\xd0pe\\xf5\\xa6\\xeblM\\'\\xc0f\\x02\\x01c\\xbd\\n\\xac\\x01\\x18\\xa0\\x81\\x83:\\xeb\\xb6\\xc2\\xb5*\\x14\\xf6\\n\\xa5\\x9aC\\x03\\x9a#\\rlI$\\x8d\\x1b5\\x9c\\x19\\xff\\xa8\\xda\\xd4\\xa4i\\xe16\\xc8\\x9c\\x13xI\\xb7a\\xc7\\xd2\\x8c\\x9a\\xa8\\xb5u#P\\x1b9\\xf7e\\xbd\\x97\\t\\x802\\xcd\\x89\\x1c\\xcd)\\xf2\\xcc\\x1aE\\x1e\\xf5\\x9b\\x9a!ME\\x8a\\xcd\\x14;\\x00r\\x1c\\xba\\xa7\\x1d\\xb99\\xe9\\xcf\\xddL\\xfa\\x87>\\xf2(\\'\\xaa\\xa7[y\\xdf\\xd2$@\\xb9\\xe6p\\x80\\xe6\\xc4A\\xae#\\xc4\\x81\\x90K\\xaa\\xd65\\xf0\\x90\\x88#\\xad\\x06\\xac%\\xb3S\\x00\\xa2\\x9aS\\x01\\xac\\xf1i3%\\x80a \\xf4p\\x98\\x01\\xde@1\\x0bP\\xc19\\x0c\\xa091\\xa0\\x82\\xa9\\xab(\\xed\\x14\\xd0\\x10\\xa0\\xcc-\\x99\\xabQ%\\xcb\\xa7\\n\\xb9\\xa3\\xeb\\x9c*\\xc05\\x9a\\xe1\\x82\\x83\\xb6\\x18\\n4\\x8f\\xa5\\x9c\\x0b\\xa8\\xe4\\x1c\\x16\\xd0\\x9cXP\\x93\\xbd\\xaeH\\xe2\\x8d\\xcc\\\\\\x08\\x80\\xba\\xbe\\xa5\\xeb+\\xad\\xf3;\\x02\\x9cI\\xc0\\xd5\\x9a\\t\\x9b\\x83zbm\\xa1\\xcd\\x9c=\\xa5\\xc5\\xbfBM\\xe7\\x84\\x8d\\xe6\\x14\\xb6\\xbao\\rN\\x98\\xe0s-\\xde\\x1a\\x02f\\xa3\\xe1E\\xb2\\xa5\\xeb\\x9cZX\\x92\\x7f\\xd8\\xcf\\xf2T\\xe0\\xa0Q\\x04\\xc2\\xb5\\xb8\\x08\\xa0\\xd8sx@s\\xe2AM\\xf4\\xba\\x12\\xf2J\\xa1\\xcd \\xda\\x0e\\xa2\\xdd \\xba\\x1eD7\\x83\\xe8\\xb6\\x84\\xca\\xc9\\x00*\\xcac\\x03\\xcd\\x89\\r\\xb5\\xc0\\xd5\\x15\\xc9\\xc2k\\xdb\\x1at\\x9d\\xdd\\xd7 \\xc0)\\x90Q%\\xaa\\xaa\\xb2\\x06\\x8f\\x81\\xac\\xe0\\xa0y\\xe4\\x13\\xae\\xa5\\xd28\\xf1\\x85boN<\\xa8\\xb9_\\x03\\xea\\xcf\\x0e\\x02\\xa6\\xbaZ\\xb4\\x04\\xd8\\x87!\\x02\\xc6\\xfa\\xf9\\x7f\\r@9p\\x01\\x9a\\xb2 \\xd1\\xc2\\xaa8\\xf1\\xa5aoN\\x81km\\x08h\\x08\\xfc\\xda\\xbeV\\xb8\\xce\\xe1!\\x00\\xb6,P\\xcb\\x0e\\x0f\\\\\\xfe\\xa92\\xb5\\xc1\\xde\\xa6\\x9aay\\x10h\\x89\\x07X^\\x9d\\x890As\\xe4A?t\\xd5\\x80\\x06\\x1eT\\xf9o\\x08\\xb0\\x8f\\x83\\x048\\tP\\xd2\\x86\\xd8\\x83\\x14\\x9b\\t\\x9c\\x83\\xa6\\x1e\\n\\xd7\\xd2\\xba0A}e\\xebaoN\\x81\\xab\\xc5\\xbb\\x06\\xf4\\xe7\\x12 *EUBZj\\xc0I\\x80\\xe0a\\xb7\\x05\\xb0Ce\\x1e8h*\\x80p-\\xf2\\x80*\\xcb\\xe1!\\x88\\xaf\\x90\\xaf\\x93,)\\x82<\\x9c\\x04Awuw\\x80\\xae\\xb3{A\\x04(~;2[\\x95\\x00\\xc0\\x00\\x0b\\x1c\\xb4\\xd3@\\xa09c\\xc5z\\x80\\xef\\x13<\\x16\\xd0\\x9c\\xb2A\\x15\\xe7\\x1a\\x9c\\xfalPQ4d\\x9f\\xea\\xa2\\xd6\\x12\\xe0\\xcc\\x82\\xb8\\xe1\\xa7\\x12}\\x8d\\xfd*\\x8f>\\x07\\xed,\\x10h\\xee\\xa3\\x8c\\x1b\\xd5\\x9f3\\xfahNqg\\xceh\\xf4\\xa3(\\xbcV\\x06\\x85>S\\xea\\xa1\\x9d\\x84V\\x9c\\xa9\\x10\\x00g*\\xf0\\xf6\\x14S\\x1bh.3e\\xa7\\x82@s:K2|\\xa98\\xe1Rq\\xa2\\xee[\\x03\\xfas%!\\\\7\\xd5\\x92\\xb2\\xa5\\x06\\x1c\\x1eJR\\x11;\\x94\\x92\\xc2<6\\x0b\\xd4\\x12\\xc1}\\x8b5\\xc1\\xd7\\x8a\\x13\\xae\\x15\\'j<k@{\"\\xd4n0\\x99\\x9d%!n\\x11\\xaa\\x86:\\xba\\x8d(\\xf1\\xea\\x9a5^\\x93(PC\\xb2\\x11\\xa0e\\x80\\xbb\\x16u\\x91\\xaf\\x0f\\'\\\\\\x1fNTq\\xaf\\x01\\r\\xa9\\x90\\xf3\\xab\\x9f0\\r\\x01V\\x10\\x12\\xe0\\x8c}\\x14\\x84\\xaa\\xa95\\xf6\\xa0\\x1c8\\x07\\xcdS\\xa2p-\\x05>\\xf5\\x05aoN\\x05A\\x0bB@\\xfd\\xc0\\t\\xb0\\x83\\x8f\\xed\\xa50t\\xc9\\xee\\xc8\\xcd.\\x03\\xc2M\\x0f\\xbb\\x00u\\x9b[\\x89fZE\\x05\\xc0\\x17\\xf5N9\\xec\\xcd)z\\xad\\n\\x11-\\xc6\\xd2\\x00\\x8a\\xdc\\xd87_\\x04T\\xfa=IG\\x80\\x13=\\xbf\\x91\\x89\\x9e\\x83&\\xe9e\\x1f\\x0bZp\\x8a\\xa2\\xcf.\\x06\\xbd9F?\\xcd\\xbea1\\x00\\x14\\xe3\\x9bi\\xcd\\xdf\\x10`7H\\tp\\x02/iA\\xecAb\\xd8\\x04\\xceA;\\xec\\x02-\\xac\\x82S_\\x0b\\xf6\\xe6\\x14x\\xf6\\xa5\\xc0\\xa3\\x16T\\xcbc\\x03na\\xc4\\x15\\xd0\\x12`g;\\x01v\\xc5\\xc3\\x1e\\x94\\x03\\xe7\\xa0\\r\\\\\\xa0y\\xd4d\\xbe\\xa3\\xcasF\\x1c\\xcd)\\xf0<W(p!\\xa8Ten\\xa6Q\\x1a\\x0e\\x8b\\x83\\x96\\xaes\\xc8(m\\x16\\x82\\xc7\\x00\\x19\\x1c4ZH\\xb8\\x16K\\x1f\\x8a=\\x87\\x0c4\\'2\\xb4\\x06\\x9c\\x92\\x06\\xd4\\xafp\\x1b\\x02fz\\'\\xac%\\xc0n\\x02\\x10\\xe0\\xcc{\\xae\\xe4L\\xfas\\xd0f\\x81@\\xf3H\\xca,\\x00q\\xe4\\x05\\x8e\\xe6\\x14\\xb8J\\xe6z\\xfa\\x93\"\\x90\\xae\\xb3\\xba\\x87\\x00\\'\\x01J\\xfa\\x0f<\\x06\\x12\\x80\\x83\\xb6\\xfe\\t\\xb4\\xc4\\x83\\xaf\\xff\\xfa\\xaf\\xb1\\x12\\x0f\\x8a\\xff\\x1a\\xd14E5\\xff\\r\\xa0\\x85\\xea?\\xe4\\xd6\\x91\\x9b\\x93\\n\\xdcMue3\\xd8\\x95\\xadDs\\x1e\\xcbT\\xf0\\x95\\xdf\\x94+\\xbf\\xa9\\x9a\\xf25\\xa0\\x18\\xe4\\\\\\xf5\\xa7!\\xbb\\x95=\\x04\\xd8\\xaf>\\x08p\\xe2\\xe6\\xa2M\\xddg\\x03^l\\x08\\x94*\\xdbJ\\xb44\\xf4\\xbe\\xde\\x9br\\xbd7U-\\xd7\\x80\\x86\\xa5\\xef\\xca\\xabB\\xba\\xce>\\x05\\x13\\xe0\\x94\\x82(\\xff\\xd4\\xa2\\xb3\\xc6\\x0e\\xa5l3<p\\xd0\\xd6@\\x81\\xe6\\x86\\xc5\\xf8\\xcf|\\xf9\\xd7\\x9b\\xd3\\x14\\xd0\\xf2\\x0f\\xd0\\xc0\\xc3\\xf0\\xa6xC\\xd7\\xe5\\xd4\\xeb\\xd7\\x93\\x96\\xcc6\\x1b\\x08\\xb0\\xd9\\x00@\\x99\\x05\\x01\\xea\\t\\xb9\\x95haY\\x9c\\xf92\\xb07\\'\\x16\\xb4\\x0c\\x04\\xb4\\x9f\\x05\\xd7v\\x87\\xe9:\\xab\\x89\\t\\xb0\\x05\\x91\\x00\\x87\\x07\\xae\\xf9t6\\x80W&\\xc9\\xf2 \\xd0R6\\xf8\\x82p\\x86\\xe6\\xc8\\xc3,s\\x18\\xe4\\x01\\xa0=\\x0f\\xea9\\x10\\x9dR\\xe6\\xea\\xee\\xb4\\xe4\\xe4\\xe4@\\xd4\\x84*k\\xd6\\xa2=\\x13\\xfb\\xd0\\xcd\\xb6\\xc2\\xb5\\xa4\\x06f\\xbe&\\xec\\xcd)\\xf6\\xcc\\x1b\\xc5\\x1e\\xa4\\x1f\\xec\\x8b\\xe9\\xe8\\x030\\x19M\\xe4\\x87bj*\\xb5\\xd8|\\x91\\xa5\\x0eP\\xa4\\xd6\\xee\\x12\\x0b7u\\xef\\x8d\\x005\\xf3[\\x89\\x16\\xca\\xe3\\x0c\\x05\\xa1\\x95F\\xbd9\\x91\\x91}\\x89\\x8c \\xe4\\xae~\\x05\\n\\xad`TV!\\x10\\xe0L\\x88(\\x11\\x95(Yc\\x87\\x12}\\x86\\x07\\x0e\\x1a\\x85 \\\\K\\x1b#3\\xd4\\x82\\x0e\\x0fhN<\\xa8L\\xad\\xc1\\xc9\\x9d\\x10\\xc1lWG\\xba\\xde>\\x1f\\x110\\xd6O\\x8ck\\xecV9l\\x0e\\xda\\xe1\\x17h\\xceg\\xb9*\\xa0\\x12t\\xc2Fs\\n[\\x8dE=\\x13\\x92Ki\\x86\\x06\\xd00\\xe8\\nh\\t\\xb0k\"\\xb6\\x07w\\x1b\\x9a\\xd9kqO3\\xfe\\xa2Cj\\xe6m\\x85k\\xe9%\\xea\\xccW\\x88\\xbd9\\x11\\xa1\\xee[\\x03\\x8a\\xa1\\xda\\'d\\x02T\\xbe\\xb4dv\\x18\\x88\\x1b\\x82\\xcac\\x8d\\xf7/\\x8f?\\x07\\xed\\xf8\\x0b4\\xd7r9\\xfe\\xbe*\\x9cqU8S\\x03Y\\x03\\xda\\xa7\\xfd\\xd5\\xf50\\\\g_\\x96Q\\x03\\xce<\\x08\\x1e\\xcez\\xc8\\x85\\xa0\\x1a\\x86\\r\\xf66\\x91d6\\xc7$Z\\xe2\\x01\\xe5\\xa03\\x0f\\xd0\\x9c\\x86_\\xab\\xc4YT\\x89W\\xbe\\xa4\\xa4\\xeb\\xecF\\x11\\x01N>D\\x95\\xa8*\\xef\\x1a<r\\xa8\\x86\\x07\\x0e\\xda|\\x10h\\x81\\x87\\xb9\\xaf\\x12{s\\xe2AM\\xb0\\x1a\\xd0\\x90\\x0f*{\\x1b\\x02l\\xfd\\'\\xc0\\xd6\\x7f\\x02l\\x02\\x00P\\x0e\\\\\\x80&p\\x89\\x16\\n!\\xfc\\x0c\\x90\\x97\\x00\\xbd9\\x05\\xae\\x85!\\xa0}\\xe0J\\x12\\x90\\xd9\\xbe%\"\\xc0\\x8e7\\x01N\\xd8\\\\\\xcc\\xe9\\xf1\\x06\\xaf\\xcc\\x89y*\\x90h)l\\x14|6\\xef\\xe7h\\x8ea\\xcfs\\xae\\x84\\xe5\\x1fP\\x0c[M\\x87\\x06\\x9d\\xf24TE\\xa3%\\xa7\\x99~K\\xd2\\x11`HY\\x8b\\xf6Ts\\x1b\\x01\\xda!\\x17]\\xc9\\x93H\\xd4\\xbe\\xb9\\xaf\\x03{s\\x8a=\\xf3F\\xb1\\x07\\xa1\\xb6\\xd0_\\n6\\xe0\\x86\\xa4\\xd8IN\\x80Q\\x8e\\x1d\\x01f\\x12\\xac\\xb1\\x07\\x89H\\x138\\x07\\xed\\xa0\\x0b\\xb4\\x14\\xb8\\xaf\\xf9\\xe6hN\\x81g_\\n<(\\xb3\\x85\\x9a\\x03\\rx\\x85\\xb8\\x15S-\\x01\\xd7~X\\xa6\\xa3\\xeb\\x1c\\x1a\\xb8\\xaa34p\\xd0\\x8e\\xbf@s(r\\xfcQ\\xdb9\\xb9\\x8f\\xe6D\\x83*i\\xf5\\xbc\\xb4+H\\xc0\\xd5\\xe7\\x00\\xbaNi\\xaa\\x8e\\xcc\\xe61i\\r\\xc0@2p\\xd0\\xb2 \\xd0\\x1c\\x89d\\x01\\xc5\\x97\\xc3B\\xd0dT\\xe0To\\xeby\\xd0x\\x0b\\xf34D\\xc0D\\xbf3h\\t\\xb8\\xf6]AG\\xd79\\xd9\\xc05\\x9e\\xc9\\x06\\x0e\\x9a\\x07\\x00h3SXz\\x00\\x98\\xfb\\x02\\xb07\\xa7lP\\x15\\xb8\\x06\\xb4_\\x00tQk\\x08px\\x88\\x92Q5\\xd5\\x91\\x87\\x93\\x00\\\\\\xc7\\x99\\xc09h\\x13@\\xa0\\xa5i\\xe0K\\xc09\\x97\\x80su\\xdf\\x1aP\\x0c|\\xa1?\\x84h\\x08p\\xd6\\xbe\\xe0\\xe1\\xd4\\xff\\x00\\x181\\xb8\\xc6\\x1e\\x94\\xcb \\x07\\xed\\x88\\x0b4\\xaf_2\\xf3Q\\xdc9\\x99\\x8f\\xe64\\xe2j\\x91\\xab\\xe7Q\\xf3]\\xd9\\x19\\xa4\\xeb&z\\x9dh\\t0\\x04u\\x04\\xa82\\xba\\x06\\xf3\\x00\\x0b\\x1c\\xb4\\xc3/\\xd0\\x02\\x0b\\x0b_\\xf1\\xf5\\xe6\\xc4\\x82V|\\x80\\x86\\xe1Wy\\xd1\\x10`\\x7f\\x84\\x84\\x80\\xab\\xf3\\x9f\\xae\\xb3\\xd3\\x00\\x802\\x0f\\x024O\\x00\\x12-\\xf1\\xe0\\x0b\\xc0\\x05\\x9a\\x13\\x0fj\\xf1\\xab\\x01E\\x1e\\xae\\xadq\\r]g\\xf7\\x89\\t0\\xe2\\xa7#\\xc0~L\\x0e@\\xe6A\\x15\\x91\\x8d\\x00\\x8d8\\x90hN41+\\x16\\xbe\"\\xec\\xcd\\x91\\x87E\\xe60\\x88\\x03@\\xfb:\\xa8\\x840\\x99s\\xe1\\xe9\\xafn\\xc9l\\xf6G:\\x02r\\xcf\\xfa\\xeb\\xd7`\\xce!\\xab\\x8c\\xdb\\x08\\xd0\\x14\\x02\\x89\\xe6\\x8e\\xc8\\x90}!\\xb8@s\\nYu\\xaa\\x06\\xb4\\x0fY\\xff\\xb0TC@^n)\\xe8p\\xbdyk\\xd8\\xd1\\xf5v\\xc5\\xc3\\xfb\\x17\\xeb\\x9f\\x00\\xcd\\xcc\\x97h)l\\xd4{\\xb6\\xfe-\\xd0\\x9c\\xc2\\xce\\xbe4\\xd2$\\x03\\xf5H\\x073\\xa8\\x1f\\xf93\\x12\\xca\\xbd\\x85\\xc6\\xfb\\t#\\xdd;2+\\x8e\\xd7\\xd8\\x952\\x03\\x1c\\xac\\xd4\\xcc\\xdc\\n\\xd7\\xd2\\x9a\\xbf@\\xa9\\xe70\\x80\\xe6\\xc4\\x80\\x1a\\xc8\\x1a\\x9c0\\x84\\x85\\xfea\\xaf\\x86\\x00\\xa7\\xf6\\x05\\x0f\\xbb\\xf4\\x91\\x87\\x99\\xfdk\\xecX\\n|\\xa2\\xd4\\xd7F\\xa0v\\xec\\xb9oi\\xbbk\\x81\\xf2\\xce\\x89\\x1c\\xcd)ru\\xdf\\x1a\\x9cB\\xca\\xab9\\xd8\\x10\\xe0D^\\xd8\\x0b\\xec\\xc8\\xc3)\\xf3\\\\\\xab\\xa9\\xfbl\\xb0\\xd7\\x89\\x16\\x1b\\xb8@s\\x89\\x92s\\xdd\\x97y\\x0b4\\xa7\\xc0UY\\xad\\x01\\rC\\xae\\xd4@C\\x80\\xfd\\x12\\x86\\x80k?M\\xd2\\xd1uN\\x06p\\xe9fx\\xe0\\xa0\\xe5A\\xa0%\\x1eP\\xde9\\t\\x80\\xe6\\xc4\\x83\\xbao\\xbd\\x10\\xb2J\\xa1\\xcd \\xda\\x0e\\xa2\\xdd \\xba\\x1eD7\\x83\\xe8\\xb6\\x84\\xca\\xac@\\xcd\\xe7\\xb0\\x81\\xe6\\xc4\\x86\\x1a\\xfcz\\x11\\xa4\\xe0\\\\?\\xeb4\\x04L\\xf4SAK\\xc0\\xec\\xca\\xc6iG\\xd7\\x99r\\xc8\\xf5\\x9cb\\x7f\\x03>CsC\\xa0\\xb9*\\x0b\\x16\\x96\\xbe\\x14\\xec\\xcd\\x89\\x05-\\x05\\x01\\rs#7\\xda\\xaf\\x14\\r\\x01W\\x97\\x04\\xba\\xce\\xee\\x8f\\x10`\\x17F\\x00r\\xa8\\x9a\\x07\\x01\\x1a\\t$\\xd1L\\xb0\\xe4\\xc1\\x97\\x82K.\\x05\\xf5>H\\r\\xa8_\\x1c\\t\\x98\\xe8g\\xe5\\x96\\x00\\xf3\\xfb\\x05:\\x02\\xae\\xfd\\xc0\\xe1\\x1a\\xae\\x1b\\xe0\\x81\\x83\\xa6F\\x08\\xd7\\xd2\\x8b\\xd2\\xa5/\\x05{s\\xcc\\x87e\\xae/A \\x00\\x1axP+rC\\x80\\xdd #\\xc0\\xbcE\\xe9\\x08\\xa8\\xf4\\x04[\\x030\\x108\\x07\\xcd\\xb3\\x80p-\\xe9\\x82\\xa5/\\x08{s\\n<\\'\\x0f\\x05\\x1e\\x05\\xde\\x95\\'Ch\\x05\\t\\xd2\\xdf\\xda\\xb4d7KAG\\x80}\\x14\\xc0\\xfe\\xa4\\xe5P\\xadY\\x1b\\x01\\xday\\xc0]K\"a\\xe9\\x0b\\xc4\\xde\\x9chP\\xd3\\xbe\\x064\\xd4\\x03\\xa5\\x9b\\x1a\\x02\\x9cy \\x84\\x9c\\x9a\\xcf\\x1d\\xb99U\\x80\\xbb)\\xaf\\r\\xf61Qc\\xc4\\xa1Ds\\x06\\xcb*\\xe0\\x8b\\xc3%\\x17\\x87K\\x15d\\rh\\x88^eGC\\x80\\xdd\\x10\"\\xc0\\x8aC\\x02\\xcc\\x0f\\xdc\\xae\\x01\\xc8\\xb1\\x99\\xc09h\\xa7\\xbd@K\\x81\\xa3\\x08\\xb4\\x8b\\xe1\\x12\\xcdi\\xd8\\xb56\\x044\\x04\\xae\\x80\\x86\\x00\\xab\\r\\t\\x98\\xe9-\\xa4\\x8e\\x00\\xab\\r\\x01\\x18\\x08\\x9c\\x83v\\xc4\\x05Z\\n\\x1cE\\xa0\\x138\\x9aS\\xe0j\\x9e\\xd5\\xcb\\xa8\\r\\xd5H4\\x04\\xa8\\x0ci\\xc9|U\\x19\\xd2u\\xa6\\x1c\\xac\\x01\\x18`\\x81\\x83\\xb6\\xf8\\t4\\xa7\\xa8\\xcc{_\\x19.\\xb92\\\\\\xaa`k@\\xc3\\xf0+y\\xd0\\x10\\xe0\\xe4}\\xdc\\x0fT\\x1e\\x1dy8\\x81s\\xf5\\xa9:\\xb0\\xc1\\xee\\xe5\\t\\xaf\\xd0\\xadDK\\x81\\xa3\\xdas\\x86\\x1f\\xcdi\\xf8\\xb5\\x08\\\\\\na\\xa5\\xee\\xdb\\x0c\\xa2\\xed \\xda\\r\\xa2\\xebAt3\\x88nK\\xa8H\\x83{_\\x0c\\xf6\\xe6\\xc4\\x86\\x1a\\xbb\\x1a\\xd0>\\r\\xe4\\xe3}Cf[\\x03\\x08\\xb0\\xda\\x8f\\x00[\\xf5\\x01\\xc8\\xe3\\xac\\xe8\\xde\\x08\\xd0\\xec\\x05I4\\xaf[2l_\\xfb\\xdds\\xed\\xb7T\\xd2\\xa6\\x06\\x14\\xc3\\xb6\\xbfT\\x80\\x80\\x89\\xfe\\xae\\xa7%\\xc0n\\x81\\x11\\x90S\\xb4\\x17\\x17k0\\x0f\\x84\\xcdA3\\xe9\\x85kI\\xf1\\xdc\\xfbR\\xaf7\\xc7\\xd1\\xbe\\xcfe3(\\x1e@C\\xd8\\xaa&6\\x04\\xd8\\xcdo\\x02\\xcc\\x17!\\x1d\\x01W%/\\\\7\\xc0\\x03\\x07\\xcd\\xda\\'\\\\\\x8b<\\xf8\\xca\\xef\\x1e\\xcd\\x89\\x07585\\xa0\\x05\\x1e\\x02\\xe0\\xf0@\\x1aP?!v\\xd4\\x94\\xba\\xc3\\x1a\\xef\\x9f\\xaa\\x9b\\xc9z\\x0e\\xda\\xb0\\x05Z\\xcaz_\\xe9\\xdd\\xa39\\x85\\x9d}i\\xf8i/\\xef\\xdaoC\\x84V\\x90\\x1e#x\\xc9n\\n}G\\x80\\x15\\xbc\\xd8\\x9fD\\x83J\\xba\\x8d\\x00-\\r\\xdc\\xb5$x\\xefQ\\xdb\\xd9\\x15\\xa07\\'\\x1a\\xd4\\x82^\\x03\\x8a\\xe1\\xa9Qi\\xc8l7\\x01\\x08\\x98\\xab1\\xee\\xc8n\\xdf\\x83\\x01\\x90\\xa3V\\xb7\\xd9\\x08\\xd0F\\xcd]K\\x8fy\\xf7(\\xec\\x9c\\xa8\\xd1\\x9c\\xa2V\\xb2\\xae\\x06\\xa7\\x90\\xf3\\nh\\x08P,\\xb5dv*}h\\xc8\\xa9\\xf4\\\\\\xb2\\x99\\xb09h\\xc3\\x16h\\xce[Y\\xe9Q\\xd69a\\xa39\\x85\\xad\\x92\\xac\\xbe\\x17\\nJ\\xf5\\xaa\\x01\\xb4\\xcft\\xf3\\xd2\\x8f\\x00\\'\\xfa\\xe0\\xe1\\x0c:\\xbf\\x91\\xba\\xcff\\xb0\\x17[\\x89\\xe6\\xa2-\\xa3\\xf7U\\xde=Wy\\xf7\\xea\\xbe5\\xa0}\\xaa\\xeb\\xb2\\xd5\\x10`\\xf7A\\t\\xb0O7\\x048\\xc3\\xce\\x85\\x9c\\xea\\xc0\\x06\\xbc\\xf2T\\xb0+\\x9d@\\xf3\\xfc\\x92\\x81\\xfb*\\xef\\x9e\\xab\\xbc{\\xad\\xf2\\x00\\xc5\\xc0\\xaf\\xbe\\xe7\\xa3\\xeb\\xec{>\\x02\\x9cZ\\x17\\xbf\\xf4\\xcb\\xdd\\xa5\\x15\\x9f\\x0bK\\x95\\x86\\x1b\\xecm*\\x84\\xe6\\xe1^\\xa2\\xb9a\\xc1\\xc3\\xca\\xd7w\\xbd9\\xa5\\xbf\\xd6w\\x80\\x86Y\\xaf\\x06\\xa6!@\\xcfzl-\\xf7S9u\\xe4d\\x1f\\xf4\\x84\\x9b\\xf2\\xda\\x08\\xd0L}\\x89\\x16\\x92\\x7f\\xe5\\x8b\\xbc\\xde\\x9cb\\xd7\"\\x0f\\xd0\\x10\\xbb\\x1a\\x8c\\x86\\x00\\xbb\\xb1A\\x80\\xaa\\x90\\x1d\\x99\\x9d\\xb0\\xb9\\x8e3as\\xd0h[h\\x93\\x11]\\xa8x+_\\xe4\\xf5\\xe6\\x18\\xf6*S\\x16Vy@\\x0ba\\x07\\xc0j[\\xf2\\xb8\\xfa\\x84K\\xd7\\xd9\\r\\x0e\\xecP\\xca\\x1a\\xc3\\x03\\x07M\\xea\\x0b\\xd7\\xd22\\xbfB5g+\\x7foN<\\xe4iC<\\x04\\xc9f_\\xfb\\x81\\x1b\\x12dR?\\x98\\xa1\\xe4\\xcb\\x9f\\x0bQ\\xf1t\\xe4n*\\xc3\\x1a\\xbbSf\\x81\\x83v\\x12\\x084G\"\\x0b\\x80\\xaf\\xf9V\\\\\\xf3\\xadr&\\x11\\x0bA\\xcb\\xd9w\\x1e\\xe0\\x86,8\\xd9@*Q>\\x12vt\\xbd3\\xf8\\\\\\xa8)\\xb26\\xd8\\xb9\\xc4\\x89\\r[\\xa0\\xb9\\xeb2l_\\xe3\\xad\\xd0\\x9c\\x06_\\rf\\rh?\\td\\x10\\r\\x99\\xaf~\\xf3G\\xd7\\xd9o~\\x08\\xc8#\\x14j?\\x98s\\x98\\x86\\x03\\x0eZ\\x0e\\x04Z\\xe2\\x00\\xa5\\x9d3\\x01\\xd0\\x9c8Pe\\xab^\\tQ\\xa5z\\xd5\\x0c\\xa2\\xed \\xda\\r\\xa2\\xebAt3\\x88nK\\xa8\\xcc\\x08_\\x08\\xae\\xb8\\x10\\\\\\xa9\\xa2_\\x03\\x1a\\xca\\xa2\\x92\\n\\r\\x01*\\x83Z2\\xdb\\xcf?\\x08p&\\xc2\\x90\\x02\\x04\\xaf\\x9c!F\\x08I4g\\x97\\x0c\\x1b\\xa5\\x9e\\x93\\x04hNI\\xa0\\x86\\xb9^\\x05\\x05hw:\\x08\\xb0[<\\x048\\x81\\x87\\xa6\\x9ce\\x90\\xcb8\\xd5\\x81\\r4\\xc7\\x02W\\xe8V\\xa2\\xa5\\xc0}\\x05\\xb8\\xe2\\np\\xa5\\x86\\xb5\\x06\\x14\\xc7{\\xa1\\x7f\\xe8\\xbf!\\xc0\\t<jF\\x95\\n\\x1dy8\\x81sU\\xa7B\\xdb`\\xf7r\\xe9S\\xc2l+\\xd1B\\xe0\\xf0\\xfbK\\xdd!\\x0f\\xf64\\xe6\\xaa\\xed\\x1a\\xe1\\x90\\xeb\\xc3\\xbf\\xf8\\x01~\\x7ft\\xb8\\xd0*\\xa1\\x88h*\\xa2\\xfd\\xea\\xbe\\x0f^\\x98\\xc3\\xd7\\xdcH\\xd4\\xd4D\\x05\\x17\\x8ab5\\xf6Ua\\xb0\\'v\\xb4,D\\xd8\\xaf\\x04\\x11\\xb1{\\xdf\\x11\\xb9\\xfa!@\\xbc\\xd0\\xe6\\n\"C\\x84p\\xd4!D\\xc0EB|\\xbdX\\x8d\\xd1\\x1e\\t\\x01r\\xe5\\xaa\\x08\\xf9\\x12\\x94\\xa1\\xfd8\\xb8\\xf7\\xccI\\xac\\x86\\xb1M\\x8e\\xb2\\xc1.\\xdaM^\\xade\\x83j\\xcen$j\\x7f\\xc72\\xc6\\x91{S\\x9c4\\xbeZ\\xac\\xc6h\\xcf,d\\xf7\\xa0\\x94\\x10\\x0fy\\xa1\\xe6\\x13L\\x93\\x80\\xd8\\xad\\xa1\\x88\\\\\\xfb\\xc1Z`$4\\xa1\\xdfs\\x01!\\\\\\xfaYB8\\xea\\xa4\\x85\\x80\\xf3\\xb8\\x8au\\xa3\\x1a\\xa3B\\xb4\\x0bG\\xb0gBrVEB\\x82\\x12\\\\\\x9a\\x0f\\xe7\\xd0\\x13\\xa9R\\xd5\\x01\\xf2!\\xd8\\xe7\\xfa\\x1bK\\x88? \\x13\\xdd\\x16\\x10\\xc0E\\xa0%\\x80\\xa3\\xfa\\x97\\x1fn\\xa5si\\xbf\\xac\\x1a\\xa3V\\xf4\\x08@{&@\\x85\\x03\\xf3\"\\xbe\\x1cV\\x08dD@\\xec\"\\x12\\x91\\xb9~\\x83\\x00\\x14\\x04\\x1f\\xfbu\\x04\"9\\xaf-\\x05\\x1c5\\xd2A:\\x97)\\xf0\\x15d5\\xe6\\x12\\x12\\xe8\\x943\\x19(\\x88\\xaf\\x89\\x95\\x9e\\x02\\n\\x02\\xa2\\xa8\\x81\\x1c\\x88\\x1b\\x8dj\\x1a\\x01\\x01\\x01\\xb9\\xf6\\x81\\x11\\xa4\\x04W\\xae\\x96\\x0f\\x8e:sB\\xc09\\xa9\\xd5\\x9c\\xf05d5\\xe6\"\\x12\\xb85|\\x04\\x19\\xb9\\xd4\\xc3\\x0b|\\xd0^\\xa2\\xf4\\x00>\\x82}\\xa1\\x8a\\'\\xd0\\x11\\x00oJp\\xb1h\\xe3\\xe7\\xa8y\\xa0\\xee#\\xf8\\x89\"\\xe9\\x8b\\xc9j\\xcc\\xd5$\\x0c\\x84\\x8c\\x06\\xf2aH\\xce\\x01\\tC0p1\\x04\\x03#C0\\xa4\\xc5\\x10\\x0c\\x8b\\xc7\\x10\\x0c\\xa5\\xa2\\x00\\xab\\xbc\\xf0\\xb5f5\\xe6b\\x1386\\xbc\\x04\\xf1\\xb8\\xd4\\x1fG\\x00%\\x01\\xf1JE\\x94\\xa8j\\x0e\\x01\\x11\\x01\\xf1J\\x05W\\x95\\xaa\\x17@\\x01G\\xcd\\x9e\\x93\\x82\\xf3\\x02()\\xc0\\xf3<\\xbcj\\xd9\\xdbs\\xb5T\\xd3\\x1bN\\xeb\\xa0w\\xc9f\\xb39\"F\\x0e\\xb4\\x111\\xdb\\x13]D\\x1c\\n\\xc4y#\\x86\\x02\\x81\\xda\\xea \\xe1\\xd2\\x8a\\x89gy\\xb8\\x14\\xa0=S`\\xa4%\\x9d+\\xb24\\x0f\\x1d\\x15!v\\xa39\"f\\x9f\\n(\\x08B\\xd5\\xd0\\x06\\xa7\\x94p9h)\\xe0\\xa8C\\x81\\x80\\x8b\\x14\\x14\\xb4d\\x7f\\x82I\\xa2\\x80\\xad7$\\x1a\\xe8\\xe8\\x11\\xfb\\x93\\x86\\xd5\\xe0!\"\\x90\\nq\\xdfr\\xf8\\xa1\\x05h\\xa1}L9\\x05\\x81\\x14\\xae\\x0e\\xf5/\\x87\\xddH\\xd8a\\x85{\\x976\"+<\\xe6\\xc3M\\x0c\\xb4gV\\xf2\\xd4\\x8a\\xac\\x04\\xf9g\\x7f\\n\\x19[D)\\xe5hKB\\xe6\\xba\\xa4\\x00\\x03$&\\xb5\\xcc\\x02\\x0e\\xb8 \\xb4\\x89\\xc1Q\\x87\\x02\\x01\\x17\\x13\\xa3\\xa0&\\xf1\\x00\\x11FA^x#\\x05A\\x01.\\xf4\\xc7\\xa1MU:\\xc3\\x84\\xecp\\x96\\xa5\\x1cj \\xa0\\xa8&\\xb1\\x17i\\xf5\\xb3\\x04p\\xd4!@\\xc0E\\x02\\nj\\x12\\x8e\\x13\\xe1\\x04\\xa8\\xa2\\x0e\\xf5\\x91\\xf6$\\x9d\\xfa\\x18\\xd5\\xa4\\n\\x14&\\x05\\xf9\\x18\\x02\\xc8C\\xdaa\\xfc\\xb9V\\xb4\\xe1sT?\\x8a\\xc0\\x01F\\x02\\xce\\x03\\xa8\\x96\\x07T\\x8c\\x8e\\x98\\xc6#@\\xd8\\xf8\\x1b%I\\xc7\\x8e\\x98R\\x0f\\xe3\\x1fu\\xa1ZR \\xfc\\xa8%\\xaf\\xd6\\x84\\xd8\\x84\\xba-0\\xc2\\xe5\\xa0e\\x84\\xa3NB\\x088\\xcfj\\xc5HAK\\xe2a \\x8c\\x115\\xb8\\x90\\x10\\xa4\\x0c\\xf5\\xdbg`\\x84\\xb4\\xa4^G\\x80\\x91\\x80xE!\\xca\\xc9\\xe1\\xdfk\\x05\\x8cp\\xfdh\\x19\\xe1\\xa8\\xc3\\x88\\x80\\x8b\\x8c\\x80\\xd6rs\\x04\\xed\\xb9L\\x1au\\t\\x07\\x86`1\\xf4\\x16\\x8f\\x80\\xa8I\\x05|\\xc4\\xfdM\\xc5.\\xd4\\x88\\xb8]\\xa9\\xb2\\n\\x08\\xe0J\\xd0\\x12\\xc0Qg\\x92\\x08\\xb88I\\n2\\x12O\\x02a\\x04\\xa8\\x9bCJ\\x90\\x8cT\\x00dD\\x00\\xcc\\x87X\\xc0@T\\x91\\xca\\x07\\x18\\x08\\xc8\\xf5\\xe7-\\xb8p\\xa8hr\\xd4\\x8aJ\\xe1\\\\\\xfaL\\xab\\xc2\\x93@\\xbc\\x8c\\xe8\\xed9#\\xd4X\\xd5\\xe8\\x87\\x19\\xb1\\xb4E\\x93\\x10\\xfb\\x02+\\xfa,\\xf4\\xf2\\xd8E\\xe4\\xda\\xfb\\x9fu\\xdf\\xdd\\xb4\\x8c\\xe8\\xdf\\xaf\\x0e\\xc7\\xa1\\xf1\\xcdM;I$\\\\ZG\\xfa\\x03N\\x9cB\\xda\\xdb3%Fd\\xd2\\x01%j\\xf24\\x15\\xd9\\xaf\\r7\\x1c\\x0eG\\x1b\\xa0r\\xf1\\x00v\\x82\\xdd~\\xe2\\x81\\xc8@\\x82\\x08\\xd4a\\x83;\\x17\\x95\\x15\\x9e\\x14\\xe2&\\x08\\xda\\x13\\x1b\\xe6\\xfc\\x93\\n\\xfcB\\xc9P<\\x01\\x1f\\x01\\xb1?\\xbf\\x12\\x11\\xf3R\\x04( my\\xe5\\x97\\x03B\\x82p\\xb9\\xa8f\\x1e\\xe4\\x07G\\x1dF\\x04\\\\*\\xa2xf\\x88\\xcb\\x08\\xda3#\\xd9\\x9d\\x84\\x16\\x1dlbv\\xa0\\x80\\x91\\xa85\\xd54\\x83\\x94\\x08\\xc8\\xb5\\xefe\\x80 jB\\xe6\\x0e\\xf0\\xc1\\xb5\\xa3\\xe5\\x83\\xa3\\xb6\\x84\\x08\\xe7r\\x86\\xa0\\xc0\\xf4\\xe6\\x0b\\xda3\\x1f\\xb9$G>\\x82X\\xf4JH\\x94\\x91\\x96\\x0f\\x12\\xab*\\x12\\x88\\x9f\\\\L\\xfc\\\\:*/\\xc8\\x07\\x8e:\\xf9 \\xe0\\x1c\\x80\\x94\\x19x\\x00\\x89\\x1b?\\xdas\\xfcj\\x89\\x84\\x12\\x1a\\xb4\\xa2\\xb3\\xbbO\\x88\\xf3\\xecA\\xc8O\\xe4Ch\\xdcyL\\xc7\\xee\\xa6\\x12j\\x19\\xe1\\xa8\\xc3\\x88\\x80\\x8b\\x8c\\xa0\\xe4\\xf42\\x02\\xed\\x99\\x11\\xa5\\t\\x81\\x91\\xa0\\x16\\x17\\xce\\xa2\\x12\\x10\\xf3\\xe2\\x1ffH\\x94\\xa2*\\x14H\\x89\\xa8=\\xd5L\\x84I\\xc1\\xe5\\xa3\\xf2\\x83\\xa4\\xe0\\xa8\\x15\\x1a\\x12\\xcem\\xab\\xa4@\\x8d\\xe9Q\\x80\\xf6L\\x81RG@AP\\x8b\\xceN\\x05!^\\xd9\\x0c>j\\xe1\\x01\\x02\\x82\\xdd\\xcb\\x01\\xae\\x16-\\x01\\x1c\\xb5\\x1b\\x99\\xf2\\xf4\\x94\\xe2*\\x8a\\x92\\xd2#\\x00\\xed\\x99\\x00\\xd5i @\\xe88\\x05C\\xa9\\x0c\\xea\\xd1y\\x158\\xe8\\x08d\\x14e\\xa7p\\xb4d\\x0c\\xf5g\\xab\\xba[$\\xa3 ;\\xf1\\xbc\\x11F\\x86\\xba9\\x90\\x115dN\\xb3\\xbex\\x02\\x0f\\xa4;e\\xbd\\x83\\xe9\\x10\\xec?Q \\xc2\\x85^rp]\\xa9\\xba\\x04\\xb3\\x83\\xa3N\\x81\\x10p\\xee\\xb6\\x9c\\x1dx\\xd2\\x88\\x97\\x1c\\xbd=\\'\\x87*\\xffu\\x05x\\x10\\x15\\xaat\\xc0\\xb9\\xb3\\xf1\\x8d\\xb9\\xf2i#b\\x96]8t6\\xfa\\xe4n\\xf6\\xec\\xae\\x11\\x19\\xa8\\x91\\x02\\xb5\\xf3C\\xc2\\xa5\\x94\\xc0\\xe3F\\\\\\n\\xd0\\x9e)P\\xea\\t(\\x08b\\xd0)\\x10\\x84\\xa8u\\x06\\x08 Y\\xa97x\\x80\\x80(,\\xd54\\x03\\x02\\xb8649 P\\x9b\\x03\\x12.\\x12\\x80\\x02\\xd2)\\x10x\\x92I&\\xc0\\x1c\\xa6R\\xd1\\xd9(K\\xfbtN\\x88S\\x1b\\x08q\\xf6r\\t\\xa9\\xf43\\tP\\xc0\\xc5\\xa0\\xa5\\x80\\xa3N\\x0e\\x08\\xb8\\xb4N\\xe2\\xd9%.\\x05BINUzB\\x0e\\x04\\xb1\\xb7\\xd4\\x9d\\x86i\\x10\\x10\\xe7q\\x94\\x10\\xb3\\xd3\\tYP\\x90\\x8e`\\x1f\\x9a\\x04\\x1c\\xb5\\xab\\xa4p.JG<t\\xc4%\\x00\\xedi\\x12L3\\x7f$\\x1d\\xe9d\\x14\\x13\\x0c\\x10P\\x94\\x8e\\x84xu \\xfa\\x0c\\xff\\xce\\x1dH\\t\\xae\\x07mJp\\xd4\\x99\\x15\\x02\\xcec\\xaa*#\\x8aFoV\\xa0=3\\xa2&9\\xa4DQL\\x12\\xe2\\xcd\\x8a\\xe0s\\xfd#\\x89t\\x1e\\x8b\\x92+\\xc0\\x08\\xd7\\x83\\x96\\x91\\xd0i1\\x17T\\xa9\\x81\\x03\\xbay\\x13\\xc5}\\n<\\xd8\\xc4\\xe5EH\\xca\\xa9Z\\x17\\x80\\x97()3\\xe1\\xb4\\x82\\x12\\xe2\\xecS\\x10\\xe2eJh\\xcd~c\\x8c\\xf7\\x19\\x9a,\\x1cuRC\\xc09\\xdbUj\\x14$%\\x9eZ\\xc2RC\\x8d\\x11P\\x10%\\xa5\\x1a\\x1f\\x98,\\x01Q\\xc9\\x04+\\x06\\tJ\\xfdQ\\x08\\xd4\\x8a\\x80\\\\\\xdf\\xa8\\x81\\x0b\\x87\\xf8\\x08]\\xbe\\x92\\x18\\xbc\\t\\xf6BK\\xb1R\\xd0\\x99x\\xa6\\tcE\\xa5\\x1d\\xb0\\x12\\xf4\\xa0\\xf3\\xf4E\\x88=}\"\\xfax\\x89\\x11e\\xa9J@\\x98!\\\\?\\xaa\\x11\\xd8H\\xd4I\\x0c\\xee\\\\\\xae\\xa2\\xa8\"\\xbd\\x9a\\x81\\xf6\\\\3\\xd4\\xcd\\x81\\x82\\xa8.U\\xa7!1H]\\xea\\x04\\x80\\xd4\\x08\\x88\\xf3\\xee\\x87\\x10GP\\x022\\x94\\x0b\\x1cu(\\x10p\\x9e\\xc52\\x0b\\xf0\\xcc\\x12\\x8f\\x82\\xde\\x9e)P\\xe2\\xb0\\xae\\x00\\xef\\x05\\xa5\\x94\\xd1M\\xb4\\x9b\\x99A\\xd7\\xdb_\\xb1\\x12=\\x9c\\xf0\\xb1\\x0f\\xe5\\x07n\\x81\\xdauT\\xc2\\xc5\\xf0\\x0bb\\x12\\x0f8a\\x19`\\xc4$\\x1d\\x9bbvd\\x81\\x00.\\x00\\xf5\\xa8\\xb4\\x08#os-\\xc2\\xba\\x888_\\xcf\\x88&U2n\\x86o\\xb8Up\\xa9D\\xe2\\xb1%n\\x1a\\xa0=\\xa5\\x819\\x8f\\xa5\\xa2\\xb3U\\x9c\\x8d\\x07B\\xec\\x0f\\xe4E\\x1f\\xa7\\x18\\x90\\x8f\\xfeuskt\\x19\\xca\\x04\\x8ej\\xca\\x81\\x01\\x01\\x17\\x19(HJ<\\xc3\\x841\\x90\\x13\\x89\\x14\\x15\\xe0\\x85\\xedZB<\\x06\\x82\\xcfu\\xfd@M\\\\_5\\xb0\\x97\\x03S\\x85\\xa3\\xceT\\x11p\\x8ePU\\n\\x94\\x96N\\xb1\\xc4\\xc3M\\x18A\\x99\\xdfHP\\x10\\x89\\xcekR:\\x83\\xc5\\xd9\\xad#\\xe4\\'\\x08\\n\\x8d;O!\\xe2\\xcc\\x15;i\\x84\\xa6Tk\\x1c\\xa4\\x8c\\x80K\\x0fbx4\\x8a\\xcbHPo\\xf4\\x8c8S\\xb5\\x10jg\\x94\\x9c\\xaa\\xaaB\\xf1\\x08\\x88\\xb3UE\\x88\\xf3!*!?\\x91#\\\\/ZF8\\xeaL\"\\x01\\x17\\x19AQ\\xe9\\xe5\\x08\\xdas\\x19Q\\xcb&0\\x12\\xc5\\xa6\\xea\\x160\\x12\\x10g\\xffR\\x1e\\xaa\\xa2\\x86\\x10\\xcaipt\\xbe5\\x12\\x8e\\xea\\x86PN\\xb9\\xa4\\xb4_l\\x0b\\xb8\\xa8\\xad\\xf0\\xd0\\x14\\x97\\x87 \\xdfbf\\x18\\xc5I\\xc7\\xb3x\\xe5\\xb4\\xa08\\xc9c\\xae_\\xac\\x03\\x01?\\xab8\\xb1\\xb3\\x03\\xb5\\x83\\xa3N\\xed\\x10p\\x9e\\xfc\\xaav\\x14\\xb4&\\x9e\\x8c\\xc2\\xf2B\\r\"\\xe4EQk\\x12b\\x86\\x17V\\xd8\\xe0\\xa3\\xb8\\x05>\\x82\\xdd+\\x15\\\\,\\xda\\x84\\xe0\\xa8\\xfdZ\\x19\\x9a\\xcd\\xec\\x15\\x95&\\x9e\\x9a\\xe2&\\x04\\xda\\xf3\\xc4P7\\x07\\x02\\xa2\\xd2T\\xe1\\xc0\\xc4 \\xa5)\\x05\\x18\\x84\\x1fuf\\x1e\\x8b\\xbe\\x10\\x03\\x01\\x01QvX\\\\\\xb9PT=\\x80\\xf9\\xc0Qg\\xfc\\x05\\\\Z;\\xf0\\x00\\x14/\\xfc\\xde\\x9e\\xc3W\\xf5\\xb0\\xae\\xe4\\xc1)*=\\x1a\\x84q\\xedu\\x1e8\\x08qd\\x16!\\xd7\\xcb\\xa5\\xb8\\xb7\\xa1E\\xa0\\xfa%\\xeeVu\\xbcHKA}\\xe2\\xc1),+\\x8c\\xfa\\xa4\\xc3Z\\xccb\\x00\\x8c\\x84\\xd2\\xa2\\x96\\x9c6\\xda\\xaf/\\xa8\\xd4\\x80\\xa3\\xc6\\xb1S\\xe52!P\\x87\\x0f\\xeel\\xca\\xe6\\xdd\\xf9\\xf1p\\xb8\\xb4\\xbb\\xcb\\xee\\xe3\\xfb\\xd7\\xdd\\x97\\xc3\\xdfvo_\\x8e/\\xe7\\x9b\\xa7\\xc3\\x03\\xdcq<\\xc2\\xdf7\\xf7v\\xfc\\xf2\\x98\\xfeq9\\xbdb\\xd6\\xdc|:].\\xa7\\xe7\\xfe\\xaf\\x8f\\x87\\xdd\\xe7\\xc3\\x1b^\\r\\x17?\\x9cN\\x97\\xf8\\x8f\\xbb\\xd0\\xe6\\xdf\\x0f\\x97\\xaf\\xaf7\\xa7\\xb7\\xe3\\xe1\\xe5\\xb2\\xbb\\x1cO/\\x1fn_Oo\\x97\\xb7\\xdd\\xf1r{\\xf3\\x08\\xf6\\x7f\\x9d\\x00xj_\\x8f\\x1fng\\x93\\xd5l\\xb5XN\\xf0g\\xb9\\xbf\\x1d\\xde.\\xc7\\xbd\\x05\\xa0\\xd9\\xc3\\x8f\\xcbo\\xe7K\\xff\\xe7\\xcd\\xd77\\xf0\\xfb\\xdf\\x05\\x9cR9YN\\xab_~]\\xd4\\xe3_\\xe6\\xf8\\xbf\\xc9b9\\xfee\\xb9\\x9cT\\xf5\\xb2\\x19\\xaf\\x16\\xe3\\xf1\\xff\\xdd\\xde\\xfcx~z9\\xbf{\\xfe\\xf1\\xe1\\xf6\\xf1ry}www\\xde?\\x1e\\x9ew\\xe7\\xd1\\xf3q\\xffv:\\x9f\\x1e.\\xa3\\xfd\\xe9\\xf9\\xee\\xf4\\xf0p\\xdc\\x1f\\xee\\x9ew\\xfb\\xbb\\xc3\\x8f\\xfd\\xe1\\xe9\\x0e\\xb6\\xd9\\xee\\xe1\\x9f\\xc7\\x17H\\xfb\\xe7\\x1f\\xef~\\xff\\xed\\x1f7\\x7f;}>@\\xd0\\xb77\\xff\\xf1r\\xf8\\x1d\\xa8\\xeb\\xff\\xfe\\xcf\\xbfC\\x87\\xfb\\xbfB/\\xc1\\x17\\xfa\\x88\\xff\\xef;{\\xf7\\xfd\\xf4\\xf6G\\xcf\\xf7\\xc7\\xff\\x07\\x00\\x00\\xff\\xff\\x03\\x00PK\\x03\\x04\\x14\\x00\\x06\\x00\\x08\\x00\\x00\\x00!\\x00\\xdcbh\\xdfI\\x01\\x00\\x00`\\x02\\x00\\x00\\x11\\x00\\x08\\x01docProps/core.xml \\xa2\\x04\\x01(\\xa0\\x00\\x01\\x00\\x00\\x00\\x00\\x00\\x00\\x00\\x00\\x00\\x00\\x00\\x00\\x00\\x00\\x00\\x00\\x00\\x00\\x00\\x00\\x00\\x00\\x00\\x00\\x00\\x00\\x00\\x00\\x00\\x00\\x00\\x00\\x00\\x00\\x00\\x00\\x00\\x00\\x00\\x00\\x00\\x00\\x00\\x00\\x00\\x00\\x00\\x00\\x00\\x00\\x00\\x00\\x00\\x00\\x00\\x00\\x00\\x00\\x00\\x00\\x00\\x00\\x00\\x00\\x00\\x00\\x00\\x00\\x00\\x00\\x00\\x00\\x00\\x00\\x00\\x00\\x00\\x00\\x00\\x00\\x00\\x00\\x00\\x00\\x00\\x00\\x00\\x00\\x00\\x00\\x00\\x00\\x00\\x00\\x00\\x00\\x00\\x00\\x00\\x00\\x00\\x00\\x00\\x00\\x00\\x00\\x00\\x00\\x00\\x00\\x00\\x00\\x00\\x00\\x00\\x00\\x00\\x00\\x00\\x00\\x00\\x00\\x00\\x00\\x00\\x00\\x00\\x00\\x00\\x00\\x00\\x00\\x00\\x00\\x00\\x00\\x00\\x00\\x00\\x00\\x00\\x00\\x00\\x00\\x00\\x00\\x00\\x00\\x00\\x00\\x00\\x00\\x00\\x00\\x00\\x00\\x00\\x00\\x00\\x00\\x00\\x00\\x00\\x00\\x00\\x00\\x00\\x00\\x00\\x00\\x00\\x00\\x00\\x00\\x00\\x00\\x00\\x00\\x00\\x00\\x00\\x00\\x00\\x00\\x00\\x00\\x00\\x00\\x00\\x00\\x00\\x00\\x00\\x00\\x00\\x00\\x00\\x00\\x00\\x00\\x00\\x00\\x00\\x00\\x00\\x00\\x00\\x00\\x00\\x00\\x00\\x00\\x00\\x00\\x00\\x00\\x00\\x00\\x00\\x00\\x00\\x00\\x00\\x00\\x00\\x00\\x00\\x00\\x00\\x00\\x00\\x00\\x00\\x00\\x00\\x00\\x00\\x00\\x00\\x00\\x00\\x00\\x00\\x00\\x00\\x00\\x00\\x00\\x00\\x00\\x00\\x00\\x00\\x00\\x00\\x00\\x8c\\x92\\xcdN\\xc30\\x10\\x84\\xefH\\xbcC\\xe4{\\xe2$\\r\\x05\\xac$\\x95\\x00\\x95\\x0b\\x95\\x90h\\x05\\xe2f\\xd9\\xdb6\"\\xfe\\x91mH\\xf3\\xf68I\\x1bR\\xc1\\x81\\xa3wf\\xbf\\x9d]9_\\x1cD\\x1d|\\x81\\xb1\\x95\\x92\\x05J\\xa2\\x18\\x05 \\x99\\xe2\\x95\\xdc\\x15h\\xb3^\\x867(\\xb0\\x8eJNk%\\xa1@-X\\xb4(//r\\xa6\\tS\\x06\\x9e\\x8d\\xd2`\\\\\\x056\\xf0$i\\t\\xd3\\x05\\xda;\\xa7\\t\\xc6\\x96\\xedAP\\x1by\\x87\\xf4\\xe2V\\x19A\\x9d\\x7f\\x9a\\x1d\\xd6\\x94}\\xd0\\x1d\\xe04\\x8e\\xe7X\\x80\\xa3\\x9c:\\x8a;`\\xa8G\":\"9\\x1b\\x91\\xfa\\xd3\\xd4=\\x803\\x0c5\\x08\\x90\\xce\\xe2$J\\xf0\\x8f\\xd7\\x81\\x11\\xf6\\xcf\\x86^\\x998E\\xe5Z\\xedw:\\xc6\\x9d\\xb29\\x1b\\xc4\\xd1}\\xb0\\xd5hl\\x9a&jf}\\x0c\\x9f?\\xc1o\\xab\\xa7\\x97~\\xd5\\xb0\\x92\\xdd\\xad\\x18\\xa02\\xe7\\x8c0\\x03\\xd4)Sv\\xfb\\xeb\\xf6P\\xe7xR\\xec\\x0eXS\\xebV\\xfe\\xd6\\xdb\\n\\xf8][>Rc\\xc0\\xb9\\x1c\\xff\\x96<\\xaeO?0\\x81\\x07>\\x0f\\x19\\xd2\\x9f\\x94\\xd7\\xd9\\xfd\\xc3z\\x89\\xca4N\\xe30\\xce\\xc2\\xf4z\\x9d\\xa6$\\xbb%\\xd9\\xfc\\xbd\\x9b|\\xd6\\xdf\\xe5\\x1b\\n\\xe28\\xff\\x9f\\xc4\\x19I\\xaeH\\x96L\\x88\\'@\\xd9\\xe7>\\xff\\x13\\xe57\\x00\\x00\\x00\\xff\\xff\\x03\\x00PK\\x03\\x04\\x14\\x00\\x06\\x00\\x08\\x00\\x00\\x00!\\x00M\\xef1\\x03\\x87\\x01\\x00\\x00\\x08\\x03\\x00\\x00\\x10\\x00\\x08\\x01docProps/app.xml \\xa2\\x04\\x01(\\xa0\\x00\\x01\\x00\\x00\\x00\\x00\\x00\\x00\\x00\\x00\\x00\\x00\\x00\\x00\\x00\\x00\\x00\\x00\\x00\\x00\\x00\\x00\\x00\\x00\\x00\\x00\\x00\\x00\\x00\\x00\\x00\\x00\\x00\\x00\\x00\\x00\\x00\\x00\\x00\\x00\\x00\\x00\\x00\\x00\\x00\\x00\\x00\\x00\\x00\\x00\\x00\\x00\\x00\\x00\\x00\\x00\\x00\\x00\\x00\\x00\\x00\\x00\\x00\\x00\\x00\\x00\\x00\\x00\\x00\\x00\\x00\\x00\\x00\\x00\\x00\\x00\\x00\\x00\\x00\\x00\\x00\\x00\\x00\\x00\\x00\\x00\\x00\\x00\\x00\\x00\\x00\\x00\\x00\\x00\\x00\\x00\\x00\\x00\\x00\\x00\\x00\\x00\\x00\\x00\\x00\\x00\\x00\\x00\\x00\\x00\\x00\\x00\\x00\\x00\\x00\\x00\\x00\\x00\\x00\\x00\\x00\\x00\\x00\\x00\\x00\\x00\\x00\\x00\\x00\\x00\\x00\\x00\\x00\\x00\\x00\\x00\\x00\\x00\\x00\\x00\\x00\\x00\\x00\\x00\\x00\\x00\\x00\\x00\\x00\\x00\\x00\\x00\\x00\\x00\\x00\\x00\\x00\\x00\\x00\\x00\\x00\\x00\\x00\\x00\\x00\\x00\\x00\\x00\\x00\\x00\\x00\\x00\\x00\\x00\\x00\\x00\\x00\\x00\\x00\\x00\\x00\\x00\\x00\\x00\\x00\\x00\\x00\\x00\\x00\\x00\\x00\\x00\\x00\\x00\\x00\\x00\\x00\\x00\\x00\\x00\\x00\\x00\\x00\\x00\\x00\\x00\\x00\\x00\\x00\\x00\\x00\\x00\\x00\\x00\\x00\\x00\\x00\\x00\\x00\\x00\\x00\\x00\\x00\\x00\\x00\\x00\\x00\\x00\\x00\\x00\\x00\\x00\\x00\\x00\\x00\\x00\\x00\\x00\\x00\\x00\\x00\\x00\\x00\\x00\\x00\\x00\\x00\\x00\\x00\\x00\\x00\\x00\\x00\\x00\\x00\\x00\\x00\\x00\\x9c\\x92Mo\\xdb0\\x0c\\x86\\xef\\x03\\xf6\\x1f\\x0c\\xdd\\x1b9]1\\x0c\\x81\\xacbh7\\xf4\\xb0b\\x01\\x92vgN\\xa6c\\xa1\\x8ad\\x88\\xac\\x91\\xec\\xd7\\x8f\\xb6\\x91\\xc6\\xd9v\\xda\\x8d\\x1f/^>\\xa4dn\\x0f\\xfbP\\xf4\\x98\\xc9\\xa7X\\xa9\\xe5\\xa2T\\x05F\\x97j\\x1fw\\x95z\\xda~\\xbd\\xfa\\xa4\\nb\\x885\\x84\\x14\\xb1RG$uk\\xdf\\xbf3\\xeb\\x9c:\\xcc\\xec\\x91\\n\\xb1\\x88T\\xa9\\x96\\xb9[iM\\xae\\xc5=\\xd0B\\xdaQ:M\\xca{`I\\xf3N\\xa7\\xa6\\xf1\\x0e\\xef\\x93{\\xddcd}]\\x96\\x1f5\\x1e\\x18c\\x8d\\xf5U\\xf7f\\xa8&\\xc7U\\xcf\\xffkZ\\'7\\xf0\\xd1\\xf3\\xf6\\xd8\\t\\xb05\\x9f\\xbb.x\\x07,[\\xdaG\\xefr\\xa2\\xd4p\\xf1\\x08\\xceGN\\xd4\\x16_\\x0e\\x0e\\x83\\xd1s\\x99\\x11\\xce\\r\\xba\\xd7\\xec\\xf9hK\\xa3\\xe7\\xa9\\xd98\\x08x\\'#l\\x03\\x81\\xd0\\xe8s\\xc1< \\x0c\\xe7[\\x83\\xcfdM\\xcf\\xab\\x1e\\x1d\\xa7\\\\\\x90\\xff%\\x07\\xbcV\\xc5O \\x1c\\xc0*\\xd5C\\xf6\\x10Y\\x00\\x07\\xd9\\x94\\x8cq\\xe8\\x88\\xb3\\xfd\\x91\\xf2\\x0b\\xb5\\x88LF\\x8b`*\\x8e\\xe1\\\\;\\x8f\\xfd\\x8d]\\x8e\\x02\\t.\\x85\\x83\\xc1\\x04\"\\x8dK\\xc4\\xad\\xe7\\x80\\xf4\\xbdYC\\xe6\\x7f\\x10/\\xe7\\xc4#\\xc3\\xc4;\\xe1l\\x06\\xbei\\xe6\\x9co\\\\Y&\\xfd\\xe1\\xfd\\xcd\\xc7\\x17z\\xea\\xb6\\xe9\\x1e\\x18O\\xb7\\xbb,\\x9aM\\x0b\\x19k9\\xf7\\xa9\\x7f.\\x98\\x079[\\x0e\\x83\\xc9]\\x0bq\\x87\\xf5I\\xf3wcx\\xf3\\xe7\\xe9c\\xdb\\xe5\\xcd\\xa2\\xfcP\\xca#\\xcejF\\x9f\\xbf\\xb0\\xfd\\r\\x00\\x00\\xff\\xff\\x03\\x00PK\\x01\\x02-\\x00\\x14\\x00\\x06\\x00\\x08\\x00\\x00\\x00!\\x00B;>\\xc9\\\\\\x01\\x00\\x00\\x90\\x04\\x00\\x00\\x13\\x00\\x00\\x00\\x00\\x00\\x00\\x00\\x00\\x00\\x00\\x00\\x00\\x00\\x00\\x00\\x00\\x00[Content_Types].xmlPK\\x01\\x02-\\x00\\x14\\x00\\x06\\x00\\x08\\x00\\x00\\x00!\\x00P|N\\xc1\\xf6\\x00\\x00\\x00L\\x02\\x00\\x00\\x0b\\x00\\x00\\x00\\x00\\x00\\x00\\x00\\x00\\x00\\x00\\x00\\x00\\x00\\x95\\x03\\x00\\x00_rels/.relsPK\\x01\\x02-\\x00\\x14\\x00\\x06\\x00\\x08\\x00\\x00\\x00!\\x00\\x8c\\x96\\xc5n\\xf3\\x00\\x00\\x00\\xba\\x02\\x00\\x00\\x1a\\x00\\x00\\x00\\x00\\x00\\x00\\x00\\x00\\x00\\x00\\x00\\x00\\x00\\xbc\\x06\\x00\\x00xl/_rels/workbook.xml.relsPK\\x01\\x02-\\x00\\x14\\x00\\x06\\x00\\x08\\x00\\x00\\x00!\\x00\\xce5\\xa5\\x97\\xb3\\x01\\x00\\x00\\xc4\\x02\\x00\\x00\\x0f\\x00\\x00\\x00\\x00\\x00\\x00\\x00\\x00\\x00\\x00\\x00\\x00\\x00\\xef\\x08\\x00\\x00xl/workbook.xmlPK\\x01\\x02-\\x00\\x14\\x00\\x06\\x00\\x08\\x00\\x00\\x00!\\x00\\x0eD\\x8d\\xfb,\\x01\\x00\\x00\\x16\\x03\\x00\\x00\\x14\\x00\\x00\\x00\\x00\\x00\\x00\\x00\\x00\\x00\\x00\\x00\\x00\\x00\\xcf\\n\\x00\\x00xl/sharedStrings.xmlPK\\x01\\x02-\\x00\\x14\\x00\\x06\\x00\\x08\\x00\\x00\\x00!\\x00\\xe9\\xa6%\\xb8\\x82\\x06\\x00\\x00S\\x1b\\x00\\x00\\x13\\x00\\x00\\x00\\x00\\x00\\x00\\x00\\x00\\x00\\x00\\x00\\x00\\x00-\\x0c\\x00\\x00xl/theme/theme1.xmlPK\\x01\\x02-\\x00\\x14\\x00\\x06\\x00\\x08\\x00\\x00\\x00!\\x00z\\x18\\x8c\\x9a\\xd5\\x03\\x00\\x00\\x86#\\x00\\x00\\r\\x00\\x00\\x00\\x00\\x00\\x00\\x00\\x00\\x00\\x00\\x00\\x00\\x00\\xe0\\x12\\x00\\x00xl/styles.xmlPK\\x01\\x02-\\x00\\x14\\x00\\x06\\x00\\x08\\x00\\x00\\x00!\\x00F_\\xd0S\\x97\\x1d\\x00\\x00\\x05\\x9e\\x00\\x00\\x18\\x00\\x00\\x00\\x00\\x00\\x00\\x00\\x00\\x00\\x00\\x00\\x00\\x00\\xe0\\x16\\x00\\x00xl/worksheets/sheet1.xmlPK\\x01\\x02-\\x00\\x14\\x00\\x06\\x00\\x08\\x00\\x00\\x00!\\x00\\xdcbh\\xdfI\\x01\\x00\\x00`\\x02\\x00\\x00\\x11\\x00\\x00\\x00\\x00\\x00\\x00\\x00\\x00\\x00\\x00\\x00\\x00\\x00\\xad4\\x00\\x00docProps/core.xmlPK\\x01\\x02-\\x00\\x14\\x00\\x06\\x00\\x08\\x00\\x00\\x00!\\x00M\\xef1\\x03\\x87\\x01\\x00\\x00\\x08\\x03\\x00\\x00\\x10\\x00\\x00\\x00\\x00\\x00\\x00\\x00\\x00\\x00\\x00\\x00\\x00\\x00-7\\x00\\x00docProps/app.xmlPK\\x05\\x06\\x00\\x00\\x00\\x00\\n\\x00\\n\\x00\\x80\\x02\\x00\\x00\\xea9\\x00\\x00\\x00\\x00'}"
            ]
          },
          "metadata": {
            "tags": []
          },
          "execution_count": 1
        }
      ]
    },
    {
      "cell_type": "markdown",
      "metadata": {
        "id": "S51949SDFk3e"
      },
      "source": [
        "# Block 2"
      ]
    },
    {
      "cell_type": "code",
      "metadata": {
        "colab": {
          "base_uri": "https://localhost:8080/",
          "height": 252
        },
        "id": "LLykMNKil4Zr",
        "outputId": "d9b95952-cbea-4fc5-abfc-f2145a77a5aa"
      },
      "source": [
        "# Load data file\n",
        "read_file = pd.read_excel('messed_up_iris.xlsx')\n",
        "read_file.to_csv('messed_up_iris.csv')                                   # Write into csv file\n",
        "df = pd.DataFrame(pd.read_csv('messed_up_iris.csv',delimiter=',',index_col=0))\n",
        "df.drop(columns='Unnamed: 0.1',inplace=True)                             # drop column  \n",
        "# show the shape and head dataframe\n",
        "print('Shape of data:',df.shape)\n",
        "print('\\n')\n",
        "df.head()"
      ],
      "execution_count": 2,
      "outputs": [
        {
          "output_type": "stream",
          "text": [
            "Shape of data: (150, 7)\n",
            "\n",
            "\n"
          ],
          "name": "stdout"
        },
        {
          "output_type": "execute_result",
          "data": {
            "text/html": [
              "<div>\n",
              "<style scoped>\n",
              "    .dataframe tbody tr th:only-of-type {\n",
              "        vertical-align: middle;\n",
              "    }\n",
              "\n",
              "    .dataframe tbody tr th {\n",
              "        vertical-align: top;\n",
              "    }\n",
              "\n",
              "    .dataframe thead th {\n",
              "        text-align: right;\n",
              "    }\n",
              "</style>\n",
              "<table border=\"1\" class=\"dataframe\">\n",
              "  <thead>\n",
              "    <tr style=\"text-align: right;\">\n",
              "      <th></th>\n",
              "      <th>sepal_length</th>\n",
              "      <th>sepal_width</th>\n",
              "      <th>petal_length</th>\n",
              "      <th>petal_width</th>\n",
              "      <th>species</th>\n",
              "      <th>color</th>\n",
              "      <th>origin</th>\n",
              "    </tr>\n",
              "  </thead>\n",
              "  <tbody>\n",
              "    <tr>\n",
              "      <th>0</th>\n",
              "      <td>5.1</td>\n",
              "      <td>3.5</td>\n",
              "      <td>1.4</td>\n",
              "      <td>0.2</td>\n",
              "      <td>setosa</td>\n",
              "      <td>green</td>\n",
              "      <td>usa</td>\n",
              "    </tr>\n",
              "    <tr>\n",
              "      <th>1</th>\n",
              "      <td>4.9</td>\n",
              "      <td>3.0</td>\n",
              "      <td>1.4</td>\n",
              "      <td>0.2</td>\n",
              "      <td>setosa</td>\n",
              "      <td>yellow</td>\n",
              "      <td>usa</td>\n",
              "    </tr>\n",
              "    <tr>\n",
              "      <th>2</th>\n",
              "      <td>4.7</td>\n",
              "      <td>3.2</td>\n",
              "      <td>1.3</td>\n",
              "      <td>0.2</td>\n",
              "      <td>setosa</td>\n",
              "      <td>green</td>\n",
              "      <td>usa</td>\n",
              "    </tr>\n",
              "    <tr>\n",
              "      <th>3</th>\n",
              "      <td>4.6</td>\n",
              "      <td>3.1</td>\n",
              "      <td>1.5</td>\n",
              "      <td>0.2</td>\n",
              "      <td>setosa</td>\n",
              "      <td>orange</td>\n",
              "      <td>japan</td>\n",
              "    </tr>\n",
              "    <tr>\n",
              "      <th>4</th>\n",
              "      <td>5.0</td>\n",
              "      <td>3.6</td>\n",
              "      <td>1.4</td>\n",
              "      <td>0.2</td>\n",
              "      <td>setosa</td>\n",
              "      <td>blue</td>\n",
              "      <td>europe</td>\n",
              "    </tr>\n",
              "  </tbody>\n",
              "</table>\n",
              "</div>"
            ],
            "text/plain": [
              "   sepal_length  sepal_width  petal_length  petal_width species   color  origin\n",
              "0           5.1          3.5           1.4          0.2  setosa   green     usa\n",
              "1           4.9          3.0           1.4          0.2  setosa  yellow     usa\n",
              "2           4.7          3.2           1.3          0.2  setosa   green     usa\n",
              "3           4.6          3.1           1.5          0.2  setosa  orange   japan\n",
              "4           5.0          3.6           1.4          0.2  setosa    blue  europe"
            ]
          },
          "metadata": {
            "tags": []
          },
          "execution_count": 2
        }
      ]
    },
    {
      "cell_type": "markdown",
      "metadata": {
        "id": "34cegSJCGZp4"
      },
      "source": [
        "# Block 3"
      ]
    },
    {
      "cell_type": "code",
      "metadata": {
        "colab": {
          "base_uri": "https://localhost:8080/"
        },
        "id": "MRBYxOkRdube",
        "outputId": "358eaca9-4e09-432d-ce17-01452e90aff5"
      },
      "source": [
        "df = df.drop(['color'],axis=1)        # remove column that has more than 50% of the data missing\n",
        "df = df.dropna(thresh = 4)            # remove rows that has more than 50% of the data missing\n",
        "print('shape of data:', df.shape)"
      ],
      "execution_count": 3,
      "outputs": [
        {
          "output_type": "stream",
          "text": [
            "shape of data: (145, 6)\n"
          ],
          "name": "stdout"
        }
      ]
    },
    {
      "cell_type": "markdown",
      "metadata": {
        "id": "3IMFSWoqLdb9"
      },
      "source": [
        "# Block 4"
      ]
    },
    {
      "cell_type": "code",
      "metadata": {
        "colab": {
          "base_uri": "https://localhost:8080/"
        },
        "id": "kmtuoMjOieCy",
        "outputId": "f46cbef2-e21e-447a-c4ec-e6a2827017a7"
      },
      "source": [
        "df[df.duplicated()]                                 # Check for any duplicates\n",
        "df = df.drop_duplicates(ignore_index=True)          # Drop duplicates\n",
        "any(df.duplicated())                                # Double check to make sure none are left\n",
        "print('shape of data:',df.shape)"
      ],
      "execution_count": 4,
      "outputs": [
        {
          "output_type": "stream",
          "text": [
            "shape of data: (140, 6)\n"
          ],
          "name": "stdout"
        }
      ]
    },
    {
      "cell_type": "markdown",
      "metadata": {
        "id": "w4czLULhMyu8"
      },
      "source": [
        "# Block 5 "
      ]
    },
    {
      "cell_type": "code",
      "metadata": {
        "colab": {
          "base_uri": "https://localhost:8080/"
        },
        "id": "vOzD5PtfmDxW",
        "outputId": "31bb6353-c89b-49d8-865b-082fb2b972c9"
      },
      "source": [
        "# For origin column\n",
        "\n",
        "# Fixing the spelling errors\n",
        "df['origin'] = np.where(df['origin']=='uas','usa',df['origin'])\n",
        "df['origin'] = np.where(df['origin']=='euarope','europe',df['origin'])\n",
        "df['origin'] = np.where(df['origin']=='europe origin','europe',df['origin'])\n",
        "\n",
        "origin_df = pd.get_dummies(df['origin'],drop_first=True)        # Convert into numerical values and drop the first column to make it more efficient\n",
        "\n",
        "# For species column\n",
        "\n",
        "# Fixing the spelling errors\n",
        "df['species'] = np.where(df['species']=='seotsa','setosa',df['species'])\n",
        "df['species'] = np.where(df['species']=='versicolr','versicolor',df['species'])\n",
        "df['species'] = np.where(df['species']=='west virginia','virginica',df['species'])\n",
        "df['species'] = np.where(df['species']=='virginia','virginica',df['species'])\n",
        "\n",
        "species_df = pd.get_dummies(df['species'],drop_first=True)     # Convert into numerical values and drop the first column to make it more efficient\n",
        "\n",
        "print('head of the data for origin_df')\n",
        "print(origin_df.head())\n",
        "print('\\n')\n",
        "print('head of the data for species_df')\n",
        "print(species_df.head())"
      ],
      "execution_count": 5,
      "outputs": [
        {
          "output_type": "stream",
          "text": [
            "head of the data for origin_df\n",
            "   japan  usa\n",
            "0      0    1\n",
            "1      0    1\n",
            "2      0    1\n",
            "3      1    0\n",
            "4      0    0\n",
            "\n",
            "\n",
            "head of the data for species_df\n",
            "   versicolor  virginica\n",
            "0           0          0\n",
            "1           0          0\n",
            "2           0          0\n",
            "3           0          0\n",
            "4           0          0\n"
          ],
          "name": "stdout"
        }
      ]
    },
    {
      "cell_type": "markdown",
      "metadata": {
        "id": "EoBGXT5MOyWj"
      },
      "source": [
        "# Block 6"
      ]
    },
    {
      "cell_type": "code",
      "metadata": {
        "colab": {
          "base_uri": "https://localhost:8080/",
          "height": 201
        },
        "id": "Fxt4Vo75v2Pi",
        "outputId": "53dcfe7b-f8ba-49d6-e42e-8b93baba02d6"
      },
      "source": [
        "final_df = pd.concat([df,origin_df,species_df],axis=1)      # Concatenate columns together \n",
        "final_df.drop(columns='species',inplace=True)               # Drop redundant columns \n",
        "final_df.drop(columns='origin',inplace=True)              \n",
        "final_df.head()"
      ],
      "execution_count": 6,
      "outputs": [
        {
          "output_type": "execute_result",
          "data": {
            "text/html": [
              "<div>\n",
              "<style scoped>\n",
              "    .dataframe tbody tr th:only-of-type {\n",
              "        vertical-align: middle;\n",
              "    }\n",
              "\n",
              "    .dataframe tbody tr th {\n",
              "        vertical-align: top;\n",
              "    }\n",
              "\n",
              "    .dataframe thead th {\n",
              "        text-align: right;\n",
              "    }\n",
              "</style>\n",
              "<table border=\"1\" class=\"dataframe\">\n",
              "  <thead>\n",
              "    <tr style=\"text-align: right;\">\n",
              "      <th></th>\n",
              "      <th>sepal_length</th>\n",
              "      <th>sepal_width</th>\n",
              "      <th>petal_length</th>\n",
              "      <th>petal_width</th>\n",
              "      <th>japan</th>\n",
              "      <th>usa</th>\n",
              "      <th>versicolor</th>\n",
              "      <th>virginica</th>\n",
              "    </tr>\n",
              "  </thead>\n",
              "  <tbody>\n",
              "    <tr>\n",
              "      <th>0</th>\n",
              "      <td>5.1</td>\n",
              "      <td>3.5</td>\n",
              "      <td>1.4</td>\n",
              "      <td>0.2</td>\n",
              "      <td>0</td>\n",
              "      <td>1</td>\n",
              "      <td>0</td>\n",
              "      <td>0</td>\n",
              "    </tr>\n",
              "    <tr>\n",
              "      <th>1</th>\n",
              "      <td>4.9</td>\n",
              "      <td>3.0</td>\n",
              "      <td>1.4</td>\n",
              "      <td>0.2</td>\n",
              "      <td>0</td>\n",
              "      <td>1</td>\n",
              "      <td>0</td>\n",
              "      <td>0</td>\n",
              "    </tr>\n",
              "    <tr>\n",
              "      <th>2</th>\n",
              "      <td>4.7</td>\n",
              "      <td>3.2</td>\n",
              "      <td>1.3</td>\n",
              "      <td>0.2</td>\n",
              "      <td>0</td>\n",
              "      <td>1</td>\n",
              "      <td>0</td>\n",
              "      <td>0</td>\n",
              "    </tr>\n",
              "    <tr>\n",
              "      <th>3</th>\n",
              "      <td>4.6</td>\n",
              "      <td>3.1</td>\n",
              "      <td>1.5</td>\n",
              "      <td>0.2</td>\n",
              "      <td>1</td>\n",
              "      <td>0</td>\n",
              "      <td>0</td>\n",
              "      <td>0</td>\n",
              "    </tr>\n",
              "    <tr>\n",
              "      <th>4</th>\n",
              "      <td>5.0</td>\n",
              "      <td>3.6</td>\n",
              "      <td>1.4</td>\n",
              "      <td>0.2</td>\n",
              "      <td>0</td>\n",
              "      <td>0</td>\n",
              "      <td>0</td>\n",
              "      <td>0</td>\n",
              "    </tr>\n",
              "  </tbody>\n",
              "</table>\n",
              "</div>"
            ],
            "text/plain": [
              "   sepal_length  sepal_width  petal_length  ...  usa  versicolor  virginica\n",
              "0           5.1          3.5           1.4  ...    1           0          0\n",
              "1           4.9          3.0           1.4  ...    1           0          0\n",
              "2           4.7          3.2           1.3  ...    1           0          0\n",
              "3           4.6          3.1           1.5  ...    0           0          0\n",
              "4           5.0          3.6           1.4  ...    0           0          0\n",
              "\n",
              "[5 rows x 8 columns]"
            ]
          },
          "metadata": {
            "tags": []
          },
          "execution_count": 6
        }
      ]
    },
    {
      "cell_type": "markdown",
      "metadata": {
        "id": "8L9VcFAgQFhL"
      },
      "source": [
        "# Block 7"
      ]
    },
    {
      "cell_type": "code",
      "metadata": {
        "colab": {
          "base_uri": "https://localhost:8080/"
        },
        "id": "3rFOiw3X7vLm",
        "outputId": "37dcdd16-34ce-44a1-f4fb-87b56109919e"
      },
      "source": [
        "upper_sd = final_df.mean()+2*final_df.std()                               # Creating thresholds for standard deviation\n",
        "lower_sd = final_df.mean()-2*final_df.std()\n",
        "final_df = final_df[(final_df < upper_sd) & (final_df > lower_sd)]        # Remove outliers above 2 standard deviations\n",
        "print('shape of data:', final_df.shape)"
      ],
      "execution_count": 7,
      "outputs": [
        {
          "output_type": "stream",
          "text": [
            "shape of data: (140, 8)\n"
          ],
          "name": "stdout"
        }
      ]
    },
    {
      "cell_type": "markdown",
      "metadata": {
        "id": "I6IJBFkrRIbk"
      },
      "source": [
        "# Block 8"
      ]
    },
    {
      "cell_type": "code",
      "metadata": {
        "id": "VmFPfJVu9NOm"
      },
      "source": [
        "final_df = final_df.fillna(final_df.median())                         # replace missing data with the median value"
      ],
      "execution_count": 8,
      "outputs": []
    },
    {
      "cell_type": "markdown",
      "metadata": {
        "id": "hC8ZX30qR232"
      },
      "source": [
        "# Block 10"
      ]
    },
    {
      "cell_type": "code",
      "metadata": {
        "colab": {
          "base_uri": "https://localhost:8080/",
          "height": 616
        },
        "id": "sNhq5mCXSmGD",
        "outputId": "6a3d7dd9-cba9-4ebb-fe1a-430e60476b63"
      },
      "source": [
        "print(sns.heatmap(final_df.isnull(),cmap=['Green','Red']))            # Show that there is no missing data\n",
        "\n",
        "final_df.describe()"
      ],
      "execution_count": 9,
      "outputs": [
        {
          "output_type": "stream",
          "text": [
            "AxesSubplot(0.125,0.125;0.62x0.755)\n"
          ],
          "name": "stdout"
        },
        {
          "output_type": "execute_result",
          "data": {
            "text/html": [
              "<div>\n",
              "<style scoped>\n",
              "    .dataframe tbody tr th:only-of-type {\n",
              "        vertical-align: middle;\n",
              "    }\n",
              "\n",
              "    .dataframe tbody tr th {\n",
              "        vertical-align: top;\n",
              "    }\n",
              "\n",
              "    .dataframe thead th {\n",
              "        text-align: right;\n",
              "    }\n",
              "</style>\n",
              "<table border=\"1\" class=\"dataframe\">\n",
              "  <thead>\n",
              "    <tr style=\"text-align: right;\">\n",
              "      <th></th>\n",
              "      <th>sepal_length</th>\n",
              "      <th>sepal_width</th>\n",
              "      <th>petal_length</th>\n",
              "      <th>petal_width</th>\n",
              "      <th>japan</th>\n",
              "      <th>usa</th>\n",
              "      <th>versicolor</th>\n",
              "      <th>virginica</th>\n",
              "    </tr>\n",
              "  </thead>\n",
              "  <tbody>\n",
              "    <tr>\n",
              "      <th>count</th>\n",
              "      <td>140.000000</td>\n",
              "      <td>140.000000</td>\n",
              "      <td>140.000000</td>\n",
              "      <td>140.000000</td>\n",
              "      <td>140.000000</td>\n",
              "      <td>140.000000</td>\n",
              "      <td>140.000000</td>\n",
              "      <td>140.000000</td>\n",
              "    </tr>\n",
              "    <tr>\n",
              "      <th>mean</th>\n",
              "      <td>5.872143</td>\n",
              "      <td>3.057857</td>\n",
              "      <td>3.790000</td>\n",
              "      <td>1.209286</td>\n",
              "      <td>0.300000</td>\n",
              "      <td>0.364286</td>\n",
              "      <td>0.307143</td>\n",
              "      <td>0.350000</td>\n",
              "    </tr>\n",
              "    <tr>\n",
              "      <th>std</th>\n",
              "      <td>0.791508</td>\n",
              "      <td>0.431505</td>\n",
              "      <td>1.718134</td>\n",
              "      <td>0.757590</td>\n",
              "      <td>0.459903</td>\n",
              "      <td>0.482957</td>\n",
              "      <td>0.462966</td>\n",
              "      <td>0.478682</td>\n",
              "    </tr>\n",
              "    <tr>\n",
              "      <th>min</th>\n",
              "      <td>4.300000</td>\n",
              "      <td>2.000000</td>\n",
              "      <td>1.000000</td>\n",
              "      <td>0.100000</td>\n",
              "      <td>0.000000</td>\n",
              "      <td>0.000000</td>\n",
              "      <td>0.000000</td>\n",
              "      <td>0.000000</td>\n",
              "    </tr>\n",
              "    <tr>\n",
              "      <th>25%</th>\n",
              "      <td>5.200000</td>\n",
              "      <td>2.800000</td>\n",
              "      <td>1.575000</td>\n",
              "      <td>0.300000</td>\n",
              "      <td>0.000000</td>\n",
              "      <td>0.000000</td>\n",
              "      <td>0.000000</td>\n",
              "      <td>0.000000</td>\n",
              "    </tr>\n",
              "    <tr>\n",
              "      <th>50%</th>\n",
              "      <td>5.800000</td>\n",
              "      <td>3.000000</td>\n",
              "      <td>4.400000</td>\n",
              "      <td>1.300000</td>\n",
              "      <td>0.000000</td>\n",
              "      <td>0.000000</td>\n",
              "      <td>0.000000</td>\n",
              "      <td>0.000000</td>\n",
              "    </tr>\n",
              "    <tr>\n",
              "      <th>75%</th>\n",
              "      <td>6.400000</td>\n",
              "      <td>3.300000</td>\n",
              "      <td>5.100000</td>\n",
              "      <td>1.800000</td>\n",
              "      <td>1.000000</td>\n",
              "      <td>1.000000</td>\n",
              "      <td>1.000000</td>\n",
              "      <td>1.000000</td>\n",
              "    </tr>\n",
              "    <tr>\n",
              "      <th>max</th>\n",
              "      <td>7.900000</td>\n",
              "      <td>4.400000</td>\n",
              "      <td>6.900000</td>\n",
              "      <td>2.500000</td>\n",
              "      <td>1.000000</td>\n",
              "      <td>1.000000</td>\n",
              "      <td>1.000000</td>\n",
              "      <td>1.000000</td>\n",
              "    </tr>\n",
              "  </tbody>\n",
              "</table>\n",
              "</div>"
            ],
            "text/plain": [
              "       sepal_length  sepal_width  ...  versicolor   virginica\n",
              "count    140.000000   140.000000  ...  140.000000  140.000000\n",
              "mean       5.872143     3.057857  ...    0.307143    0.350000\n",
              "std        0.791508     0.431505  ...    0.462966    0.478682\n",
              "min        4.300000     2.000000  ...    0.000000    0.000000\n",
              "25%        5.200000     2.800000  ...    0.000000    0.000000\n",
              "50%        5.800000     3.000000  ...    0.000000    0.000000\n",
              "75%        6.400000     3.300000  ...    1.000000    1.000000\n",
              "max        7.900000     4.400000  ...    1.000000    1.000000\n",
              "\n",
              "[8 rows x 8 columns]"
            ]
          },
          "metadata": {
            "tags": []
          },
          "execution_count": 9
        },
        {
          "output_type": "display_data",
          "data": {
            "image/png": "[encoded data removed]",
            "text/plain": [
              "<Figure size 432x288 with 2 Axes>"
            ]
          },
          "metadata": {
            "tags": [],
            "needs_background": "light"
          }
        }
      ]
    }
  ]
}