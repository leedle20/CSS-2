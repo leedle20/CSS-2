{
  "nbformat": 4,
  "nbformat_minor": 0,
  "metadata": {
    "colab": {
      "name": "Swan_Garrett_problem_set_1.ipynb",
      "provenance": [],
      "collapsed_sections": []
    },
    "kernelspec": {
      "name": "python3",
      "display_name": "Python 3"
    },
    "language_info": {
      "name": "python"
    }
  },
  "cells": [
    {
      "cell_type": "markdown",
      "metadata": {
        "id": "fO0Lrus6ciPT"
      },
      "source": [
        "Block 1: Loading the libraries"
      ]
    },
    {
      "cell_type": "code",
      "metadata": {
        "id": "mn1h8J2oVSbr"
      },
      "source": [
        "import numpy as np\n",
        "import pandas as pd"
      ],
      "execution_count": 2,
      "outputs": []
    },
    {
      "cell_type": "markdown",
      "metadata": {
        "id": "c3s_J0t8ckkX"
      },
      "source": [
        "Block 2: reading csv, renaming columns, and printing head, tail, and describe"
      ]
    },
    {
      "cell_type": "code",
      "metadata": {
        "colab": {
          "base_uri": "https://localhost:8080/",
          "height": 501
        },
        "id": "qaGnuqZFWgZ4",
        "outputId": "e823d113-bf9b-4759-eeb0-37f6c5543287"
      },
      "source": [
        "data = pd.read_csv('problem_set_1_data.csv')\n",
        "data.columns = ['quiz_total','attended','final_grade','final_exam','name']\n",
        "print(data.head())\n",
        "print(data.tail())\n",
        "data.describe()"
      ],
      "execution_count": 37,
      "outputs": [
        {
          "output_type": "stream",
          "text": [
            "   quiz_total  attended  final_grade  final_exam               name\n",
            "0       78.50         1        99.38          46       Linnie Lietz\n",
            "1       64.25         0        95.78          45      Mitch Mustain\n",
            "2       76.75         0        97.42          41     Salina Chavera\n",
            "3       69.00         1        92.50          38  Kimberely Conwell\n",
            "4       64.00         0        92.50          39          Zack Burk\n",
            "     quiz_total  attended  final_grade  final_exam                 name\n",
            "166        73.5         0        96.25          45           Dana Malta\n",
            "167        75.5         0        98.13          44         Sixta Heyden\n",
            "168        41.0         0        69.38          32       Brianne Broome\n",
            "169        77.0         0       101.25          47  Elouise Weatherholt\n",
            "170        72.0         0        92.81          38        Addie Maharaj\n"
          ],
          "name": "stdout"
        },
        {
          "output_type": "execute_result",
          "data": {
            "text/html": [
              "<div>\n",
              "<style scoped>\n",
              "    .dataframe tbody tr th:only-of-type {\n",
              "        vertical-align: middle;\n",
              "    }\n",
              "\n",
              "    .dataframe tbody tr th {\n",
              "        vertical-align: top;\n",
              "    }\n",
              "\n",
              "    .dataframe thead th {\n",
              "        text-align: right;\n",
              "    }\n",
              "</style>\n",
              "<table border=\"1\" class=\"dataframe\">\n",
              "  <thead>\n",
              "    <tr style=\"text-align: right;\">\n",
              "      <th></th>\n",
              "      <th>quiz_total</th>\n",
              "      <th>attended</th>\n",
              "      <th>final_grade</th>\n",
              "      <th>final_exam</th>\n",
              "    </tr>\n",
              "  </thead>\n",
              "  <tbody>\n",
              "    <tr>\n",
              "      <th>count</th>\n",
              "      <td>171.000000</td>\n",
              "      <td>171.000000</td>\n",
              "      <td>171.000000</td>\n",
              "      <td>171.000000</td>\n",
              "    </tr>\n",
              "    <tr>\n",
              "      <th>mean</th>\n",
              "      <td>69.131579</td>\n",
              "      <td>0.192982</td>\n",
              "      <td>91.855380</td>\n",
              "      <td>39.672515</td>\n",
              "    </tr>\n",
              "    <tr>\n",
              "      <th>std</th>\n",
              "      <td>9.488473</td>\n",
              "      <td>0.395798</td>\n",
              "      <td>9.487795</td>\n",
              "      <td>5.511304</td>\n",
              "    </tr>\n",
              "    <tr>\n",
              "      <th>min</th>\n",
              "      <td>0.000000</td>\n",
              "      <td>0.000000</td>\n",
              "      <td>2.500000</td>\n",
              "      <td>0.000000</td>\n",
              "    </tr>\n",
              "    <tr>\n",
              "      <th>25%</th>\n",
              "      <td>65.500000</td>\n",
              "      <td>0.000000</td>\n",
              "      <td>89.380000</td>\n",
              "      <td>37.000000</td>\n",
              "    </tr>\n",
              "    <tr>\n",
              "      <th>50%</th>\n",
              "      <td>72.000000</td>\n",
              "      <td>0.000000</td>\n",
              "      <td>93.130000</td>\n",
              "      <td>40.000000</td>\n",
              "    </tr>\n",
              "    <tr>\n",
              "      <th>75%</th>\n",
              "      <td>75.500000</td>\n",
              "      <td>0.000000</td>\n",
              "      <td>96.360000</td>\n",
              "      <td>44.000000</td>\n",
              "    </tr>\n",
              "    <tr>\n",
              "      <th>max</th>\n",
              "      <td>79.500000</td>\n",
              "      <td>1.000000</td>\n",
              "      <td>104.380000</td>\n",
              "      <td>49.000000</td>\n",
              "    </tr>\n",
              "  </tbody>\n",
              "</table>\n",
              "</div>"
            ],
            "text/plain": [
              "       quiz_total    attended  final_grade  final_exam\n",
              "count  171.000000  171.000000   171.000000  171.000000\n",
              "mean    69.131579    0.192982    91.855380   39.672515\n",
              "std      9.488473    0.395798     9.487795    5.511304\n",
              "min      0.000000    0.000000     2.500000    0.000000\n",
              "25%     65.500000    0.000000    89.380000   37.000000\n",
              "50%     72.000000    0.000000    93.130000   40.000000\n",
              "75%     75.500000    0.000000    96.360000   44.000000\n",
              "max     79.500000    1.000000   104.380000   49.000000"
            ]
          },
          "metadata": {
            "tags": []
          },
          "execution_count": 37
        }
      ]
    },
    {
      "cell_type": "markdown",
      "metadata": {
        "id": "j2XIwNfyXOb7"
      },
      "source": [
        "Based on the averages, it looks like most people get about 70 points on the quiz, 40 points on the final, and have an average grade of 92% in the class. Also, only about 20% of people attended class."
      ]
    },
    {
      "cell_type": "markdown",
      "metadata": {
        "id": "ap90q_XNcq-R"
      },
      "source": [
        "Block 3: subsetting data"
      ]
    },
    {
      "cell_type": "code",
      "metadata": {
        "colab": {
          "base_uri": "https://localhost:8080/"
        },
        "id": "74I873WtXt0M",
        "outputId": "539bd2bc-a097-472c-93e1-c1125aa0af51"
      },
      "source": [
        "print('grades when students attended class') \n",
        "print(data[data['attended']==1].mean()) # this pulls out the data when attended is equal to 1\n",
        "\n",
        "print('grades when students did not attend class')\n",
        "print(data[data['attended']==0].mean()) # this pulls out the data when attended is equal to 0"
      ],
      "execution_count": 38,
      "outputs": [
        {
          "output_type": "stream",
          "text": [
            "grades when students attended class\n",
            "quiz_total     72.500000\n",
            "attended        1.000000\n",
            "final_grade    95.072121\n",
            "final_exam     40.636364\n",
            "dtype: float64\n",
            "grades when students did not attend class\n",
            "quiz_total     68.326087\n",
            "attended        0.000000\n",
            "final_grade    91.086159\n",
            "final_exam     39.442029\n",
            "dtype: float64\n"
          ],
          "name": "stdout"
        }
      ]
    },
    {
      "cell_type": "markdown",
      "metadata": {
        "id": "pCkeoDEjYJCL"
      },
      "source": [
        "Based on the averages when subsetting the data, it looks like most people have about 4 more points in their quizzes, 4% more points in their final grade, and about 1.5 points better in their final exam. These results suggest that going to class is a good idea!"
      ]
    },
    {
      "cell_type": "markdown",
      "metadata": {
        "id": "DPPA4tJcb_tf"
      },
      "source": [
        "EXTRA CREDIT:\n",
        "\n",
        "Method 1: use a for loop, go through all of the names and spit out names when quiz_total, final_exam, and final_grade all match"
      ]
    },
    {
      "cell_type": "code",
      "metadata": {
        "colab": {
          "base_uri": "https://localhost:8080/"
        },
        "id": "2dX4E2HqYaKt",
        "outputId": "a3591016-f99c-4e1e-ea5b-0bd1050184cf"
      },
      "source": [
        "for i in np.arange(0,len(data)):\n",
        "  if sum((data['quiz_total'][i] == data['quiz_total']) & (data['final_exam'][i] == data['final_exam']) & (data['final_grade'][i] == data['final_grade'])) > 1:\n",
        "    print(data['name'][i])"
      ],
      "execution_count": 41,
      "outputs": [
        {
          "output_type": "stream",
          "text": [
            "Jaraham Eidda\n",
            "Addie Maharaj\n"
          ],
          "name": "stdout"
        }
      ]
    },
    {
      "cell_type": "markdown",
      "metadata": {
        "id": "0kpKjvH-cLah"
      },
      "source": [
        "Method 2: use duplicated with an input argument of false so that it spit out both names"
      ]
    },
    {
      "cell_type": "code",
      "metadata": {
        "colab": {
          "base_uri": "https://localhost:8080/",
          "height": 111
        },
        "id": "lPTI37SCbbFj",
        "outputId": "6624f438-bb48-49c3-ca83-cf8dd1e0be30"
      },
      "source": [
        "data[data[['quiz_total','final_exam','final_grade']].duplicated(keep=False)]"
      ],
      "execution_count": 50,
      "outputs": [
        {
          "output_type": "execute_result",
          "data": {
            "text/html": [
              "<div>\n",
              "<style scoped>\n",
              "    .dataframe tbody tr th:only-of-type {\n",
              "        vertical-align: middle;\n",
              "    }\n",
              "\n",
              "    .dataframe tbody tr th {\n",
              "        vertical-align: top;\n",
              "    }\n",
              "\n",
              "    .dataframe thead th {\n",
              "        text-align: right;\n",
              "    }\n",
              "</style>\n",
              "<table border=\"1\" class=\"dataframe\">\n",
              "  <thead>\n",
              "    <tr style=\"text-align: right;\">\n",
              "      <th></th>\n",
              "      <th>quiz_total</th>\n",
              "      <th>attended</th>\n",
              "      <th>final_grade</th>\n",
              "      <th>final_exam</th>\n",
              "      <th>name</th>\n",
              "    </tr>\n",
              "  </thead>\n",
              "  <tbody>\n",
              "    <tr>\n",
              "      <th>146</th>\n",
              "      <td>72.0</td>\n",
              "      <td>0</td>\n",
              "      <td>92.81</td>\n",
              "      <td>38</td>\n",
              "      <td>Jaraham Eidda</td>\n",
              "    </tr>\n",
              "    <tr>\n",
              "      <th>170</th>\n",
              "      <td>72.0</td>\n",
              "      <td>0</td>\n",
              "      <td>92.81</td>\n",
              "      <td>38</td>\n",
              "      <td>Addie Maharaj</td>\n",
              "    </tr>\n",
              "  </tbody>\n",
              "</table>\n",
              "</div>"
            ],
            "text/plain": [
              "     quiz_total  attended  final_grade  final_exam           name\n",
              "146        72.0         0        92.81          38  Jaraham Eidda\n",
              "170        72.0         0        92.81          38  Addie Maharaj"
            ]
          },
          "metadata": {
            "tags": []
          },
          "execution_count": 50
        }
      ]
    },
    {
      "cell_type": "markdown",
      "metadata": {
        "id": "TxgNNT6nb-EG"
      },
      "source": [
        "Method 2: This could be partial credit if they don't use the false input argument"
      ]
    },
    {
      "cell_type": "code",
      "metadata": {
        "colab": {
          "base_uri": "https://localhost:8080/",
          "height": 80
        },
        "id": "GHWnNlPwbz_h",
        "outputId": "c2bd71b0-a67f-488d-dc11-589ddfca74fb"
      },
      "source": [
        "data[data[['quiz_total','final_exam','final_grade']].duplicated()]"
      ],
      "execution_count": 53,
      "outputs": [
        {
          "output_type": "execute_result",
          "data": {
            "text/html": [
              "<div>\n",
              "<style scoped>\n",
              "    .dataframe tbody tr th:only-of-type {\n",
              "        vertical-align: middle;\n",
              "    }\n",
              "\n",
              "    .dataframe tbody tr th {\n",
              "        vertical-align: top;\n",
              "    }\n",
              "\n",
              "    .dataframe thead th {\n",
              "        text-align: right;\n",
              "    }\n",
              "</style>\n",
              "<table border=\"1\" class=\"dataframe\">\n",
              "  <thead>\n",
              "    <tr style=\"text-align: right;\">\n",
              "      <th></th>\n",
              "      <th>quiz_total</th>\n",
              "      <th>attended</th>\n",
              "      <th>final_grade</th>\n",
              "      <th>final_exam</th>\n",
              "      <th>name</th>\n",
              "    </tr>\n",
              "  </thead>\n",
              "  <tbody>\n",
              "    <tr>\n",
              "      <th>170</th>\n",
              "      <td>72.0</td>\n",
              "      <td>0</td>\n",
              "      <td>92.81</td>\n",
              "      <td>38</td>\n",
              "      <td>Addie Maharaj</td>\n",
              "    </tr>\n",
              "  </tbody>\n",
              "</table>\n",
              "</div>"
            ],
            "text/plain": [
              "     quiz_total  attended  final_grade  final_exam           name\n",
              "170        72.0         0        92.81          38  Addie Maharaj"
            ]
          },
          "metadata": {
            "tags": []
          },
          "execution_count": 53
        }
      ]
    },
    {
      "cell_type": "markdown",
      "metadata": {
        "id": "IBpAXCJ5cUlL"
      },
      "source": [
        "Method 3: This could be partial credit if they just went to excel and found the names. Since that is pretty clever!"
      ]
    },
    {
      "cell_type": "code",
      "metadata": {
        "colab": {
          "base_uri": "https://localhost:8080/"
        },
        "id": "-c1wMb8HccRn",
        "outputId": "e49465af-4994-406e-8e5a-3ce17004450f"
      },
      "source": [
        "print('Addie Maharaj','Jaraham Eidda')"
      ],
      "execution_count": 54,
      "outputs": [
        {
          "output_type": "stream",
          "text": [
            "Addie Maharaj Jaraham Eidda\n"
          ],
          "name": "stdout"
        }
      ]
    }
  ]
}