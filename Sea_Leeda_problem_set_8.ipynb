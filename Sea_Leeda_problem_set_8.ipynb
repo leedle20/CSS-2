{
  "nbformat": 4,
  "nbformat_minor": 0,
  "metadata": {
    "colab": {
      "name": "Sea_Leeda_problem_set_8.ipynb",
      "provenance": [],
      "collapsed_sections": []
    },
    "kernelspec": {
      "name": "python3",
      "display_name": "Python 3"
    },
    "language_info": {
      "name": "python"
    }
  },
  "cells": [
    {
      "cell_type": "markdown",
      "metadata": {
        "id": "fXytzX61JsDg"
      },
      "source": [
        "# Block 1 "
      ]
    },
    {
      "cell_type": "code",
      "metadata": {
        "id": "gPEbaKXsKFbo"
      },
      "source": [
        "import seaborn as sns\n",
        "import matplotlib.pyplot as plt\n",
        "import numpy as np\n",
        "import pandas as pd\n",
        "from sklearn.model_selection import train_test_split\n",
        "from sklearn import tree\n",
        "from sklearn import metrics"
      ],
      "execution_count": 291,
      "outputs": []
    },
    {
      "cell_type": "markdown",
      "metadata": {
        "id": "uJySLut3Kikw"
      },
      "source": [
        "# Block 2 "
      ]
    },
    {
      "cell_type": "code",
      "metadata": {
        "id": "f40Q_EP1Kkp-"
      },
      "source": [
        "# did not use function\n",
        "\n",
        "def model_func(y,X):\n",
        "  X = np.array(X)\n",
        "  y = np.array(y)\n",
        "  \n",
        "  Xtrain, Xtest, ytrain, ytest = train_test_split(X.reshape(len(X),1),y,random_state=1)\n",
        "  #train_test_split(X,y,random_state=1)\n",
        "  \n",
        "  \n",
        "  # train_test_split(X.reshape(len(X),1),y,random_state=1)\n",
        " # x_train = np.reshape(x_train.values, (-1, 1))\n",
        "  \n",
        "  #train_test_split(X,y,random_state=1) train_test_split(X.array.reshape(1),y,random_state=1)\n",
        "\n",
        "  tree_model = tree.DecisionTreeClassifier(max_depth=1) \n",
        "  tree_model = tree_model.fit(Xtrain, ytrain)\n",
        "\n",
        "  train_tree = tree_model.score(Xtrain, ytrain)\n",
        "  test_tree = tree_model.score(Xtest, ytest)\n",
        "\n",
        "  print(train_tree)\n",
        "  print(test_tree)\n",
        "\n",
        "  # Creating ROC curve\n",
        "  y_predicted = tree_model.predict_proba(Xtest[:,np.newaxis])[:,1]\n",
        "  fpr,tpr,thresholds = metrics.roc_curve(ytest,y_predicted)\n",
        "\n",
        "  answer = input(\"Do you want plots? Y/N?\")\n",
        "  if answer == 'Y': \n",
        "# label plots\n",
        "    fig,axes = plt.subplots(nrows=1,ncols=2) \n",
        "\n",
        "    axes[0].plt.plot(fpr,tpr,marker='o',label='ROC curve')\n",
        "    plt.plot([0,1],[0,1])\n",
        "    plt.xlabel('false positive rate')\n",
        "    plt.ylabel('true positive rate')\n",
        "\n",
        "    sns.boxplot((ytrain,Xtrain),ax=axes[1],color='r',marker='o')\n",
        "  else:\n",
        "    return"
      ],
      "execution_count": null,
      "outputs": []
    },
    {
      "cell_type": "markdown",
      "metadata": {
        "id": "UOrVFZTPQvA5"
      },
      "source": [
        "# Block 3"
      ]
    },
    {
      "cell_type": "code",
      "metadata": {
        "id": "nMmGDLVJQuxn"
      },
      "source": [
        "data = sns.load_dataset('titanic')"
      ],
      "execution_count": 293,
      "outputs": []
    },
    {
      "cell_type": "markdown",
      "metadata": {
        "id": "LzabY1yARcXj"
      },
      "source": [
        "# Block 4"
      ]
    },
    {
      "cell_type": "code",
      "metadata": {
        "id": "Xf4co4SQihIZ",
        "colab": {
          "base_uri": "https://localhost:8080/"
        },
        "outputId": "eedba3ce-d8af-4284-b8b8-1854a0fbef98"
      },
      "source": [
        "X = data[['fare']]\n",
        "y = data[['survived']]\n",
        "Xtrain, Xtest, ytrain, ytest = train_test_split(X,y,random_state=1)\n",
        "\n",
        "# Make decision tree binary classification\n",
        "tree_model = tree.DecisionTreeClassifier(max_depth=5) \n",
        "tree_model = tree_model.fit(Xtrain, ytrain)\n",
        "\n",
        "# Ensure no overfitting\n",
        "train_tree = tree_model.score(Xtrain, ytrain)\n",
        "test_tree = tree_model.score(Xtest, ytest)\n",
        "\n",
        "# Comparing training and testing data\n",
        "print(\"Training:\", train_tree)\n",
        "print(\"Testing:\", test_tree)\n",
        "\n",
        "# Create ROC Curve\n",
        "y_predicted = tree_model.predict_proba(Xtest)[:,1]\n",
        "fpr,tpr,thresholds = metrics.roc_curve(ytest,y_predicted)"
      ],
      "execution_count": 294,
      "outputs": [
        {
          "output_type": "stream",
          "text": [
            "Training: 0.7140718562874252\n",
            "Testing: 0.6143497757847534\n"
          ],
          "name": "stdout"
        }
      ]
    },
    {
      "cell_type": "code",
      "metadata": {
        "colab": {
          "base_uri": "https://localhost:8080/",
          "height": 369
        },
        "id": "evRQYDGwnjlj",
        "outputId": "a799109f-4cbc-47ca-981e-ee60ea8e6756"
      },
      "source": [
        "# Create input argument\n",
        "answer = input(\"Do you want plots? Y/N?\")\n",
        "if answer == 'Y': \n",
        "# label plots\n",
        "  fig,axes = plt.subplots(1,2) \n",
        "\n",
        "  # Creating plot with ROC Curve\n",
        "  axes[0].plot(fpr,tpr,marker='o',label='ROC curve')\n",
        "  plt.plot([0,1],[0,1])\n",
        "  axes[0].set_title('ROC Curve')\n",
        "  axes[0].set_xlabel('false positive rate')\n",
        "  axes[0].set_ylabel('true positive rate')\n",
        "\n",
        "  # Creating boxplot\n",
        "  axes[1].set_title('Box Plot')\n",
        "  sns.boxplot(data['survived'],data['fare'])\n",
        "  plt.tight_layout()"
      ],
      "execution_count": 295,
      "outputs": [
        {
          "output_type": "stream",
          "text": [
            "Do you want plots? Y/N?Y\n"
          ],
          "name": "stdout"
        },
        {
          "output_type": "stream",
          "text": [
            "/usr/local/lib/python3.7/dist-packages/seaborn/_decorators.py:43: FutureWarning: Pass the following variables as keyword args: x, y. From version 0.12, the only valid positional argument will be `data`, and passing other arguments without an explicit keyword will result in an error or misinterpretation.\n",
            "  FutureWarning\n"
          ],
          "name": "stderr"
        },
        {
          "output_type": "display_data",
          "data": {
            "image/png": "[encoded data removed]",
            "text/plain": [
              "<Figure size 432x288 with 2 Axes>"
            ]
          },
          "metadata": {
            "tags": [],
            "needs_background": "light"
          }
        }
      ]
    },
    {
      "cell_type": "markdown",
      "metadata": {
        "id": "4h6FM5BXRd_Z"
      },
      "source": [
        "# Block 5"
      ]
    },
    {
      "cell_type": "code",
      "metadata": {
        "colab": {
          "base_uri": "https://localhost:8080/"
        },
        "id": "pJxdMQ3SYj7v",
        "outputId": "3728a626-053d-4d43-9bde-bd6926263627"
      },
      "source": [
        "X1 = data[['pclass']]\n",
        "y1 = data[['survived']]\n",
        "Xtrain1, Xtest1, ytrain1, ytest1 = train_test_split(X1,y1,random_state=1)\n",
        "\n",
        "# Make decision tree binary classification\n",
        "tree_model1 = tree.DecisionTreeClassifier(max_depth=5) \n",
        "tree_model1 = tree_model.fit(Xtrain1, ytrain1)\n",
        "\n",
        "# Ensure no overfitting\n",
        "train_tree1 = tree_model.score(Xtrain1, ytrain1)\n",
        "test_tree1 = tree_model.score(Xtest1, ytest1)\n",
        "\n",
        "# comparing training and testing data\n",
        "print(\"Training:\", train_tree1)\n",
        "print(\"Testing:\", test_tree1)\n",
        "\n",
        "# Create ROC Curve\n",
        "y_predicted1 = tree_model.predict_proba(Xtest1)[:,1]\n",
        "fpr1,tpr1,thresholds = metrics.roc_curve(ytest1,y_predicted1)"
      ],
      "execution_count": 298,
      "outputs": [
        {
          "output_type": "stream",
          "text": [
            "Training: 0.6826347305389222\n",
            "Testing: 0.6681614349775785\n"
          ],
          "name": "stdout"
        }
      ]
    },
    {
      "cell_type": "code",
      "metadata": {
        "id": "xfT6eJPQiCKx",
        "colab": {
          "base_uri": "https://localhost:8080/",
          "height": 369
        },
        "outputId": "7ab7a225-ce1a-43d2-973c-5827926e1369"
      },
      "source": [
        "# Create input argument\n",
        "answer = input(\"Do you want plots? Y/N?\")\n",
        "if answer == 'Y': \n",
        "  fig,axes = plt.subplots(1,2) \n",
        "\n",
        "  # Creating plot with ROC Curve\n",
        "  axes[0].plot(fpr1,tpr1,marker='o',label='ROC curve')\n",
        "  plt.plot([0,1],[0,1])\n",
        "  axes[0].set_title('ROC Curve')\n",
        "  axes[0].set_xlabel('false positive rate')\n",
        "  axes[0].set_ylabel('true positive rate')\n",
        "\n",
        "  # Creating boxplot \n",
        "  axes[1].set_title('Box Plot')\n",
        "  sns.boxplot(data['survived'],data['pclass'])\n",
        "  axes[1].set_ylim([1,3.25])\n",
        "  plt.tight_layout()"
      ],
      "execution_count": 299,
      "outputs": [
        {
          "output_type": "stream",
          "text": [
            "Do you want plots? Y/N?Y\n"
          ],
          "name": "stdout"
        },
        {
          "output_type": "stream",
          "text": [
            "/usr/local/lib/python3.7/dist-packages/seaborn/_decorators.py:43: FutureWarning: Pass the following variables as keyword args: x, y. From version 0.12, the only valid positional argument will be `data`, and passing other arguments without an explicit keyword will result in an error or misinterpretation.\n",
            "  FutureWarning\n"
          ],
          "name": "stderr"
        },
        {
          "output_type": "display_data",
          "data": {
            "image/png": "[encoded data removed]",
            "text/plain": [
              "<Figure size 432x288 with 2 Axes>"
            ]
          },
          "metadata": {
            "tags": [],
            "needs_background": "light"
          }
        }
      ]
    },
    {
      "cell_type": "markdown",
      "metadata": {
        "id": "jYGGtaNkv5Rn"
      },
      "source": [
        "I found that a better class (Pclass) is a better predictor of survival because the ROC Curve plot seems to show a better rate between true positive and false positive rate than the plot with ticket fare. It shows a better chance of having a true positive rate with a lower false positive rate. In addition, in terms of the box plot, there are not any outliers like the one with ticket fare where the outliers make it more tough to see and unpredictability. It boxplot with pclass shows that those who are in a better class are more likely to survive. "
      ]
    }
  ]
}