{
  "nbformat": 4,
  "nbformat_minor": 0,
  "metadata": {
    "colab": {
      "name": "Sea_Leeda_problem_set_4.ipynb",
      "provenance": []
    },
    "kernelspec": {
      "name": "python3",
      "display_name": "Python 3"
    },
    "language_info": {
      "name": "python"
    }
  },
  "cells": [
    {
      "cell_type": "markdown",
      "metadata": {
        "id": "cTno2saSLv1R"
      },
      "source": [
        "# Block 1"
      ]
    },
    {
      "cell_type": "code",
      "metadata": {
        "id": "9v9qTz0hMO_m"
      },
      "source": [
        "from bs4 import BeautifulSoup \n",
        "import requests "
      ],
      "execution_count": 182,
      "outputs": []
    },
    {
      "cell_type": "markdown",
      "metadata": {
        "id": "3hp-BbOkMUkW"
      },
      "source": [
        "# Block 2 "
      ]
    },
    {
      "cell_type": "code",
      "metadata": {
        "id": "NMFhMBIRr9Eu"
      },
      "source": [
        "url = 'https://weather.com/weather/today/l/XXXXX:4:US'  # assign the website as a variable to use in function\n",
        "\n",
        "def weather_zipcode(zipcode):                           # creating the function\n",
        "    zipcode = str(zipcode)                              # make it a string to replace the text in the url\n",
        "    new_url = url.replace(\"XXXXX\", zipcode)\n",
        "\n",
        "    response = requests.get(new_url)\n",
        "    if response.status_code == 200:                     # we want to make sure we have an actual webpage\n",
        "      soup = BeautifulSoup(response.content)\n",
        "\n",
        "      for item in soup.find_all(class_ = 'TodayDetailsCard--feelsLikeTempValue--2aogo'):\n",
        "        temperature = item.text\n",
        "        temp = temperature + 'F'                        # making temperature as a variable to print later \n",
        "      for item in soup.find_all(class_ = 'CurrentConditions--location--1Ayv3'):\n",
        "        location = item.text[0:-8]                     # making location as a variable to print later \n",
        "                                                        # slicing to get only the relevant info needed \n",
        "\n",
        "      return print('The name of the city and state: ' + location, '\\n' + 'The weather in Fahrenheit: ' + temp, '\\n' + 'The zipcode: ' + zipcode)\n",
        "\n",
        "    else: \n",
        "      print('Not a valid zipcode')                                   # print 'Not a valid zip code' if it doesn't work"
      ],
      "execution_count": 185,
      "outputs": []
    },
    {
      "cell_type": "markdown",
      "metadata": {
        "id": "1oA8yXVOxke4"
      },
      "source": [
        "# Block 3 "
      ]
    },
    {
      "cell_type": "code",
      "metadata": {
        "colab": {
          "base_uri": "https://localhost:8080/"
        },
        "id": "cD0TwCNT0-QW",
        "outputId": "c4405f99-35a7-4e34-dd3a-0ce8178e7b54"
      },
      "source": [
        "# handling all the zipcodes in the list: [92122, str(92122), 9212, 99999, 92328, 'Hello, is this weather.com?'] using the function created in Block 2\n",
        "\n",
        "print('Output for 92122:')\n",
        "weather_zipcode(92122)\n",
        "\n",
        "print('\\n')\n",
        "print('Output for str(92122):')\n",
        "weather_zipcode(str(92122))\n",
        "\n",
        "print('\\n')\n",
        "print('Output for 9212:')\n",
        "weather_zipcode(9212)\n",
        "\n",
        "print('\\n')\n",
        "print('Output for 99999:')\n",
        "weather_zipcode(99999)\n",
        "\n",
        "print('\\n')\n",
        "print('Output for 92328:')\n",
        "weather_zipcode(92328)\n",
        "\n",
        "print('\\n')\n",
        "print('Output for \"Hello, is this weather.com?\":')\n",
        "weather_zipcode('Hello, is this weather.com?')"
      ],
      "execution_count": 186,
      "outputs": [
        {
          "output_type": "stream",
          "text": [
            "Output for 92122:\n",
            "The name of the city and state: San Diego, CA \n",
            "The weather in Fahrenheit: 57°F \n",
            "The zipcode: 92122\n",
            "\n",
            "\n",
            "Output for str(92122):\n",
            "The name of the city and state: San Diego, CA \n",
            "The weather in Fahrenheit: 57°F \n",
            "The zipcode: 92122\n",
            "\n",
            "\n",
            "Output for 9212:\n",
            "Not a valid zipcode\n",
            "\n",
            "\n",
            "Output for 99999:\n",
            "Not a valid zipcode\n",
            "\n",
            "\n",
            "Output for 92328:\n",
            "The name of the city and state: Death Valley, CA \n",
            "The weather in Fahrenheit: 79°F \n",
            "The zipcode: 92328\n",
            "\n",
            "\n",
            "Output for \"Hello, is this weather.com?\":\n",
            "Not a valid zipcode\n"
          ],
          "name": "stdout"
        }
      ]
    }
  ]
}