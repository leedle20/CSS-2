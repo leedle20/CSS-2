{
  "nbformat": 4,
  "nbformat_minor": 0,
  "metadata": {
    "colab": {
      "name": "Sea_Leeda_problem_set_3.ipynb",
      "provenance": []
    },
    "kernelspec": {
      "name": "python3",
      "display_name": "Python 3"
    },
    "language_info": {
      "name": "python"
    }
  },
  "cells": [
    {
      "cell_type": "markdown",
      "metadata": {
        "id": "SL8dMA0X7NRL"
      },
      "source": [
        "# Block 1 "
      ]
    },
    {
      "cell_type": "code",
      "metadata": {
        "id": "_zAb1mCapW_h"
      },
      "source": [
        "import pandas as pd"
      ],
      "execution_count": 164,
      "outputs": []
    },
    {
      "cell_type": "markdown",
      "metadata": {
        "id": "vJm3Q_Oa7pda"
      },
      "source": [
        "# Block 2"
      ]
    },
    {
      "cell_type": "code",
      "metadata": {
        "id": "VstdsFF37qzz"
      },
      "source": [
        "df = pd.read_html('https://en.wikipedia.org/wiki/MonsterVerse')"
      ],
      "execution_count": 165,
      "outputs": []
    },
    {
      "cell_type": "markdown",
      "metadata": {
        "id": "mt82YeIeWRe9"
      },
      "source": [
        "# Block 3"
      ]
    },
    {
      "cell_type": "code",
      "metadata": {
        "colab": {
          "base_uri": "https://localhost:8080/",
          "height": 293
        },
        "id": "cR4vS8rHnQ7f",
        "outputId": "1d95b57f-2a80-4a53-c483-1c9d67e3c50b"
      },
      "source": [
        "dataframe = df[3] # Assigning the table we want to a variable \n",
        "dataframe = dataframe.set_index(dataframe.columns[0]) # Setting our index \n",
        "dataframe.index.names = ['Character'] # Changing our index name \n",
        "dataframe.columns = ['Godzilla', 'Kong:Skull Island', 'Godzilla:King of the Monsters','Godzilla vs. Kong']  # Changing our column names\n",
        "dataframe = dataframe.drop(dataframe.index [ [ 5 ] ]) # Removing the row\n",
        "dataframe.head(7)"
      ],
      "execution_count": 166,
      "outputs": [
        {
          "output_type": "execute_result",
          "data": {
            "text/html": [
              "<div>\n",
              "<style scoped>\n",
              "    .dataframe tbody tr th:only-of-type {\n",
              "        vertical-align: middle;\n",
              "    }\n",
              "\n",
              "    .dataframe tbody tr th {\n",
              "        vertical-align: top;\n",
              "    }\n",
              "\n",
              "    .dataframe thead th {\n",
              "        text-align: right;\n",
              "    }\n",
              "</style>\n",
              "<table border=\"1\" class=\"dataframe\">\n",
              "  <thead>\n",
              "    <tr style=\"text-align: right;\">\n",
              "      <th></th>\n",
              "      <th>Godzilla</th>\n",
              "      <th>Kong:Skull Island</th>\n",
              "      <th>Godzilla:King of the Monsters</th>\n",
              "      <th>Godzilla vs. Kong</th>\n",
              "    </tr>\n",
              "    <tr>\n",
              "      <th>Character</th>\n",
              "      <th></th>\n",
              "      <th></th>\n",
              "      <th></th>\n",
              "      <th></th>\n",
              "    </tr>\n",
              "  </thead>\n",
              "  <tbody>\n",
              "    <tr>\n",
              "      <th>Godzilla</th>\n",
              "      <td>T.J. StormS</td>\n",
              "      <td>Pictured with archive audio</td>\n",
              "      <td>T.J. StormS</td>\n",
              "      <td>CGI</td>\n",
              "    </tr>\n",
              "    <tr>\n",
              "      <th>MUTO</th>\n",
              "      <td>Matt CrossSLee RossS</td>\n",
              "      <td>NaN</td>\n",
              "      <td>CGI</td>\n",
              "      <td>Archive footage</td>\n",
              "    </tr>\n",
              "    <tr>\n",
              "      <th>King Kong</th>\n",
              "      <td>NaN</td>\n",
              "      <td>Terry NotarySToby KebbellS</td>\n",
              "      <td>Archive footage</td>\n",
              "      <td>Eric PeteyS[57]</td>\n",
              "    </tr>\n",
              "    <tr>\n",
              "      <th>King Ghidorah</th>\n",
              "      <td>NaN</td>\n",
              "      <td>Pictured</td>\n",
              "      <td>Jason LilesSAlan MaxsonSRichard DortonS</td>\n",
              "      <td>Archive footage</td>\n",
              "    </tr>\n",
              "    <tr>\n",
              "      <th>Rodan</th>\n",
              "      <td>NaN</td>\n",
              "      <td>Pictured</td>\n",
              "      <td>Jason LilesS</td>\n",
              "      <td>Archive footage</td>\n",
              "    </tr>\n",
              "    <tr>\n",
              "      <th>Ishiro Serizawa</th>\n",
              "      <td>Ken Watanabe</td>\n",
              "      <td>NaN</td>\n",
              "      <td>Ken Watanabe</td>\n",
              "      <td>NaN</td>\n",
              "    </tr>\n",
              "    <tr>\n",
              "      <th>Vivienne Graham</th>\n",
              "      <td>Sally Hawkins</td>\n",
              "      <td>NaN</td>\n",
              "      <td>Sally Hawkins</td>\n",
              "      <td>NaN</td>\n",
              "    </tr>\n",
              "  </tbody>\n",
              "</table>\n",
              "</div>"
            ],
            "text/plain": [
              "                             Godzilla  ... Godzilla vs. Kong\n",
              "Character                              ...                  \n",
              "Godzilla                  T.J. StormS  ...               CGI\n",
              "MUTO             Matt CrossSLee RossS  ...   Archive footage\n",
              "King Kong                         NaN  ...   Eric PeteyS[57]\n",
              "King Ghidorah                     NaN  ...   Archive footage\n",
              "Rodan                             NaN  ...   Archive footage\n",
              "Ishiro Serizawa          Ken Watanabe  ...               NaN\n",
              "Vivienne Graham         Sally Hawkins  ...               NaN\n",
              "\n",
              "[7 rows x 4 columns]"
            ]
          },
          "metadata": {
            "tags": []
          },
          "execution_count": 166
        }
      ]
    },
    {
      "cell_type": "markdown",
      "metadata": {
        "id": "hZoN09_ZYbSQ"
      },
      "source": [
        "# Block 4"
      ]
    },
    {
      "cell_type": "code",
      "metadata": {
        "id": "fbqU4cT9Ydvw"
      },
      "source": [
        "dataframe.to_csv('cleandataframe.csv',sep='\\t')"
      ],
      "execution_count": 167,
      "outputs": []
    }
  ]
}