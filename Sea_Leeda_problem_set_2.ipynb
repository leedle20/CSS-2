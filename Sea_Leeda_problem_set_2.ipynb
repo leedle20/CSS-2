{
  "nbformat": 4,
  "nbformat_minor": 0,
  "metadata": {
    "colab": {
      "name": "Sea_Leeda_problem_set_2.ipynb",
      "provenance": []
    },
    "kernelspec": {
      "name": "python3",
      "display_name": "Python 3"
    },
    "language_info": {
      "name": "python"
    }
  },
  "cells": [
    {
      "cell_type": "markdown",
      "metadata": {
        "id": "erfzdKlKsHVM"
      },
      "source": [
        "# Block 1 "
      ]
    },
    {
      "cell_type": "code",
      "metadata": {
        "id": "K1DRYuEAPhxo"
      },
      "source": [
        "import seaborn as sns\n",
        "import matplotlib.pyplot as plt\n",
        "import numpy as np"
      ],
      "execution_count": 24,
      "outputs": []
    },
    {
      "cell_type": "markdown",
      "metadata": {
        "id": "Wr6m7WcrsKLE"
      },
      "source": [
        "# Block 2"
      ]
    },
    {
      "cell_type": "code",
      "metadata": {
        "colab": {
          "base_uri": "https://localhost:8080/",
          "height": 314
        },
        "id": "TT-bvEoqX328",
        "outputId": "74edd527-ac9d-4510-82a8-ef296d9d0a5b"
      },
      "source": [
        "sns.load_dataset('anscombe')\n",
        "anscombe_data = sns.load_dataset('anscombe') # setting it to a variable to subset data\n",
        "\n",
        "# Subsetting data\n",
        "subplot1 = anscombe_data[anscombe_data['dataset']=='I']\n",
        "subplot2 = anscombe_data[anscombe_data['dataset']=='II']\n",
        "subplot3 = anscombe_data[anscombe_data['dataset']=='III']\n",
        "subplot4 = anscombe_data[anscombe_data['dataset']=='IV']\n",
        "\n",
        "# Creating subplots\n",
        "fig = plt.figure()\n",
        "fig,axes = plt.subplots(nrows=2,ncols=2)\n",
        "\n",
        "# I \n",
        "axes[0,0].plot(subplot1['x'],subplot1['y'], linestyle='',marker='o')\n",
        "axes[0,0].set_xlabel('x1')\n",
        "axes[0,0].set_ylabel('y1')\n",
        "axes[0,0].set_title('I')\n",
        "axes[0,0].set_xticks(np.arange(2,22,2))\n",
        "axes[0,0].set_yticks(np.arange(2,16,2))\n",
        "\n",
        "mean1 = np.mean(subplot1)\n",
        "std1 = np.std(subplot1)\n",
        "\n",
        "axes[0,0].text(16, 10, 'mean: x = 9.000000' '\\n' 'y = 7.500909' '\\n' 'std: x = 3.162278' '\\n'\n",
        "'y = 1.937024')\n",
        "\n",
        "# II\n",
        "axes[0,1].plot(subplot2['x'],subplot2['y'], linestyle='',marker='o',color='g')\n",
        "axes[0,1].set_xlabel('x2')\n",
        "axes[0,1].set_ylabel('y2')\n",
        "axes[0,1].set_title('II')\n",
        "axes[0,1].set_xticks(np.arange(2,22,2))\n",
        "axes[0,1].set_yticks(np.arange(2,16,2))\n",
        "\n",
        "mean2 = np.mean(subplot2)\n",
        "std2 = np.std(subplot2)\n",
        "\n",
        "# III\n",
        "axes[0,1].text(17, 10, 'mean: x = 9.000000' '\\n' 'y = 7.500909' '\\n' 'std: x = 3.162278' '\\n'\n",
        "'y = 1.937024')\n",
        "\n",
        "axes[1,0].plot(subplot3['x'],subplot3['y'], linestyle='',marker='o',color='r')\n",
        "axes[1,0].set_xlabel('x3')\n",
        "axes[1,0].set_ylabel('y3')\n",
        "axes[1,0].set_title('III')\n",
        "axes[1,0].set_xticks(np.arange(2,22,2))\n",
        "axes[1,0].set_yticks(np.arange(2,16,2))\n",
        "\n",
        "mean3 = np.mean(subplot3)\n",
        "std3 = np.std(subplot3)\n",
        "\n",
        "axes[1,0].text(17, 6, 'mean: x = 9.0' '\\n' 'y = 7.5' '\\n' 'std: x = 3.162278' '\\n'\n",
        "'y = 1.935933')\n",
        "\n",
        "# IV\n",
        "axes[1,1].plot(subplot4['x'],subplot4['y'], linestyle='',marker='o',color='orange')\n",
        "axes[1,1].set_xlabel('x4')\n",
        "axes[1,1].set_ylabel('y4')\n",
        "axes[1,1].set_title('IV')\n",
        "axes[1,1].set_xticks(np.arange(2,22,2))\n",
        "axes[1,1].set_yticks(np.arange(2,16,2))\n",
        "\n",
        "mean4 = np.mean(subplot4)\n",
        "std4 = np.std(subplot4)\n",
        "\n",
        "axes[1,1].text(14, 3, 'mean: x = 9.000000' '\\n' 'y = 7.500909' '\\n' 'std: x = 3.162278' '\\n'\n",
        "'y = 1.937024')\n",
        "\n",
        "plt.tight_layout()"
      ],
      "execution_count": 77,
      "outputs": [
        {
          "output_type": "display_data",
          "data": {
            "text/plain": [
              "<Figure size 432x288 with 0 Axes>"
            ]
          },
          "metadata": {
            "tags": []
          }
        },
        {
          "output_type": "display_data",
          "data": {
            "image/png": "[encoded data removed]",
            "text/plain": [
              "<Figure size 432x288 with 4 Axes>"
            ]
          },
          "metadata": {
            "tags": [],
            "needs_background": "light"
          }
        }
      ]
    },
    {
      "cell_type": "markdown",
      "metadata": {
        "id": "o81lQLA6sNNW"
      },
      "source": [
        "# Block 3 "
      ]
    },
    {
      "cell_type": "code",
      "metadata": {
        "id": "8wECkMR3sGl0"
      },
      "source": [
        "fig.savefig('fig.pdf')"
      ],
      "execution_count": 79,
      "outputs": []
    }
  ]
}